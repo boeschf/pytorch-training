{
 "cells": [
  {
   "cell_type": "code",
   "execution_count": 1,
   "metadata": {},
   "outputs": [],
   "source": [
    "import numpy as np\n",
    "import os\n",
    "import json\n",
    "import dataset_utils as du\n",
    "import eval_utils as eu\n",
    "import torch\n",
    "import torch.distributed as dist\n",
    "from datetime import datetime\n",
    "from transformers import BertTokenizer, BertForQuestionAnswering, AdamW\n",
    "from tokenizers import BertWordPieceTokenizer\n",
    "from torch.utils.data import DataLoader, DistributedSampler\n",
    "from torch.nn.parallel import DistributedDataParallel\n",
    "from tqdm import tqdm\n",
    "from tqdm.notebook import tqdm"
   ]
  },
  {
   "cell_type": "code",
   "execution_count": 2,
   "metadata": {},
   "outputs": [],
   "source": [
    "hf_model = 'bert-base-uncased'\n",
    "bert_cache = os.path.join(os.getcwd(), 'cache')\n",
    "save_path = os.path.join(bert_cache, f'{hf_model}-tokenizer')"
   ]
  },
  {
   "cell_type": "code",
   "execution_count": 3,
   "metadata": {},
   "outputs": [],
   "source": [
    "# Load the fast tokenizer from saved file\n",
    "tokenizer = BertWordPieceTokenizer(os.path.join(save_path, 'vocab.txt'),\n",
    "                                   lowercase=True)"
   ]
  },
  {
   "cell_type": "code",
   "execution_count": 4,
   "metadata": {},
   "outputs": [
    {
     "name": "stderr",
     "output_type": "stream",
     "text": [
      "Some weights of the model checkpoint at bert-base-uncased were not used when initializing BertForQuestionAnswering: ['cls.predictions.transform.dense.bias', 'cls.predictions.bias', 'cls.seq_relationship.weight', 'cls.predictions.transform.LayerNorm.bias', 'cls.predictions.transform.dense.weight', 'cls.seq_relationship.bias', 'cls.predictions.decoder.weight', 'cls.predictions.transform.LayerNorm.weight']\n",
      "- This IS expected if you are initializing BertForQuestionAnswering from the checkpoint of a model trained on another task or with another architecture (e.g. initializing a BertForSequenceClassification model from a BertForPreTraining model).\n",
      "- This IS NOT expected if you are initializing BertForQuestionAnswering from the checkpoint of a model that you expect to be exactly identical (initializing a BertForSequenceClassification model from a BertForSequenceClassification model).\n",
      "Some weights of BertForQuestionAnswering were not initialized from the model checkpoint at bert-base-uncased and are newly initialized: ['qa_outputs.bias', 'qa_outputs.weight']\n",
      "You should probably TRAIN this model on a down-stream task to be able to use it for predictions and inference.\n"
     ]
    }
   ],
   "source": [
    "model = BertForQuestionAnswering.from_pretrained(\n",
    "    hf_model,\n",
    "    cache_dir=os.path.join(bert_cache, f'{hf_model}_qa')\n",
    ")"
   ]
  },
  {
   "cell_type": "code",
   "execution_count": 5,
   "metadata": {},
   "outputs": [],
   "source": [
    "eval_path = os.path.join(bert_cache, 'data', 'dev-v1.1.json')\n",
    "with open(eval_path) as f:\n",
    "    raw_eval_data = json.load(f)"
   ]
  },
  {
   "cell_type": "code",
   "execution_count": 6,
   "metadata": {},
   "outputs": [
    {
     "name": "stdout",
     "output_type": "stream",
     "text": [
      "10331 evaluation points created.\n"
     ]
    }
   ],
   "source": [
    "max_len = 384\n",
    "eval_squad_examples = du.create_squad_examples(raw_eval_data, max_len, tokenizer)\n",
    "x_eval, y_eval = du.create_inputs_targets(eval_squad_examples)\n",
    "print(f\"{len(eval_squad_examples)} evaluation points created.\")"
   ]
  },
  {
   "cell_type": "code",
   "execution_count": 7,
   "metadata": {},
   "outputs": [
    {
     "data": {
      "text/plain": [
       "<All keys matched successfully>"
      ]
     },
     "execution_count": 7,
     "metadata": {},
     "output_type": "execute_result"
    }
   ],
   "source": [
    "model_hash = '2021-12-23-095243'  # datetime.now().strftime(\"%Y-%m-%d-%H%M%S\")\n",
    "model_path_name = f'./cache/model_trained_2_nodes_{model_hash}'\n",
    "\n",
    "# load the model on cpu\n",
    "model.load_state_dict(\n",
    "    torch.load(model_path_name,\n",
    "               map_location=torch.device('cpu'))\n",
    ")\n",
    "\n",
    "# load the model on gpu\n",
    "# model.load_state_dict(torch.load(model_path_name))"
   ]
  },
  {
   "cell_type": "code",
   "execution_count": 8,
   "metadata": {},
   "outputs": [
    {
     "data": {
      "text/html": [
       "<pre style=\"white-space:pre;overflow-x:auto;line-height:normal;font-family:Menlo,'DejaVu Sans Mono',consolas,'Courier New',monospace\"><span style=\"color: #800080; text-decoration-color: #800080\">───────────────────────────────────────── </span>Example 0<span style=\"color: #800080; text-decoration-color: #800080\"> ─────────────────────────────────────────</span>\n",
       "</pre>\n"
      ],
      "text/plain": [
       "\u001b[35m───────────────────────────────────────── \u001b[0mExample 0\u001b[35m ─────────────────────────────────────────\u001b[0m\n"
      ]
     },
     "metadata": {},
     "output_type": "display_data"
    },
    {
     "data": {
      "text/html": [
       "<pre style=\"white-space:pre;overflow-x:auto;line-height:normal;font-family:Menlo,'DejaVu Sans Mono',consolas,'Courier New',monospace\">❓ <span style=\"font-weight: bold\">What is this doctrine of God appointing authorities called?</span>\n",
       "</pre>\n"
      ],
      "text/plain": [
       "❓ \u001b[1mWhat is this doctrine of God appointing authorities called?\u001b[0m\n"
      ]
     },
     "metadata": {},
     "output_type": "display_data"
    },
    {
     "data": {
      "text/html": [
       "<pre style=\"white-space:pre;overflow-x:auto;line-height:normal;font-family:Menlo,'DejaVu Sans Mono',consolas,'Courier New',monospace\">🤖 Luther justified his opposition to the rebels on three grounds. First, in choosing \n",
       "violence over lawful submission to the secular government, they were ignoring Christ's \n",
       "counsel to \"Render unto Caesar the things that are Caesar's\"; St. Paul had written in his \n",
       "epistle to the Romans 13:1–7 that all authorities are appointed by God and therefore should \n",
       "not be resisted. This reference from the Bible forms the foundation for the doctrine known as\n",
       "the <span style=\"background-color: #90ee90\">Divine Right of Kings</span>, or, in the German case, the divine right of the princes. Second, \n",
       "the violent actions of rebelling, robbing, and plundering placed the peasants \"outside the \n",
       "law of God and Empire\", so they deserved \"death in body and soul, if only as highwaymen and \n",
       "murderers.\" Lastly, Luther charged the rebels with blasphemy for calling themselves \n",
       "\"Christian brethren\" and committing their sinful acts under the banner of the Gospel.\n",
       "</pre>\n"
      ],
      "text/plain": [
       "🤖 Luther justified his opposition to the rebels on three grounds. First, in choosing \n",
       "violence over lawful submission to the secular government, they were ignoring Christ's \n",
       "counsel to \"Render unto Caesar the things that are Caesar's\"; St. Paul had written in his \n",
       "epistle to the Romans 13:1–7 that all authorities are appointed by God and therefore should \n",
       "not be resisted. This reference from the Bible forms the foundation for the doctrine known as\n",
       "the \u001b[48;2;144;238;144mDivine Right of Kings\u001b[0m, or, in the German case, the divine right of the princes. Second, \n",
       "the violent actions of rebelling, robbing, and plundering placed the peasants \"outside the \n",
       "law of God and Empire\", so they deserved \"death in body and soul, if only as highwaymen and \n",
       "murderers.\" Lastly, Luther charged the rebels with blasphemy for calling themselves \n",
       "\"Christian brethren\" and committing their sinful acts under the banner of the Gospel.\n"
      ]
     },
     "metadata": {},
     "output_type": "display_data"
    },
    {
     "data": {
      "text/html": [
       "<pre style=\"white-space:pre;overflow-x:auto;line-height:normal;font-family:Menlo,'DejaVu Sans Mono',consolas,'Courier New',monospace\">✅ Divine Right of Kings         \n",
       "</pre>\n"
      ],
      "text/plain": [
       "✅ Divine Right of Kings         \n"
      ]
     },
     "metadata": {},
     "output_type": "display_data"
    },
    {
     "data": {
      "text/html": [
       "<pre style=\"white-space:pre;overflow-x:auto;line-height:normal;font-family:Menlo,'DejaVu Sans Mono',consolas,'Courier New',monospace\"><span style=\"color: #800080; text-decoration-color: #800080\">───────────────────────────────────────── </span>Example 1<span style=\"color: #800080; text-decoration-color: #800080\"> ─────────────────────────────────────────</span>\n",
       "</pre>\n"
      ],
      "text/plain": [
       "\u001b[35m───────────────────────────────────────── \u001b[0mExample 1\u001b[35m ─────────────────────────────────────────\u001b[0m\n"
      ]
     },
     "metadata": {},
     "output_type": "display_data"
    },
    {
     "data": {
      "text/html": [
       "<pre style=\"white-space:pre;overflow-x:auto;line-height:normal;font-family:Menlo,'DejaVu Sans Mono',consolas,'Courier New',monospace\">❓ <span style=\"font-weight: bold\">When did the FCC freeze incoming applications for new stations?</span>\n",
       "</pre>\n"
      ],
      "text/plain": [
       "❓ \u001b[1mWhen did the FCC freeze incoming applications for new stations?\u001b[0m\n"
      ]
     },
     "metadata": {},
     "output_type": "display_data"
    },
    {
     "data": {
      "text/html": [
       "<pre style=\"white-space:pre;overflow-x:auto;line-height:normal;font-family:Menlo,'DejaVu Sans Mono',consolas,'Courier New',monospace\">🤖 The network's flagship owned-and-operated station, WJZ-TV in New York City (later \n",
       "re-called WABC-TV), signed on the air on August 10, 1948, with its first broadcast running \n",
       "for two hours that evening. ABC's other owned-and-operated stations launched over the course \n",
       "of the next 13 months: WENR-TV in Chicago signed on the air on September 17, while WXYZ-TV in\n",
       "Detroit went on the air on October 9, 1948. In <span style=\"background-color: #90ee90\">October 1948</span>, as a result of an influx of \n",
       "television station license applications that it had issued as well as a study it undertook on\n",
       "the use of the VHF spectrum for broadcasting purposes, the FCC implemented a freeze on new \n",
       "station applications. However, KGO-TV in San Francisco, which had received its license prior \n",
       "to the freeze, made its debut on May 5, 1949. On May 7, 1949, Billboard revealed that ABC had\n",
       "proposed an investment of $6.25 million, of which it would spend $2.5 million to convert 20 \n",
       "acres (80,937 m2) of land in Hollywood into what would become The Prospect Studios, and \n",
       "construct a transmitter on Mount Wilson, in anticipation of the launch of KECA-TV, which was \n",
       "scheduled to begin operations on August 1 (but would not actually sign on until September \n",
       "16).\n",
       "</pre>\n"
      ],
      "text/plain": [
       "🤖 The network's flagship owned-and-operated station, WJZ-TV in New York City (later \n",
       "re-called WABC-TV), signed on the air on August 10, 1948, with its first broadcast running \n",
       "for two hours that evening. ABC's other owned-and-operated stations launched over the course \n",
       "of the next 13 months: WENR-TV in Chicago signed on the air on September 17, while WXYZ-TV in\n",
       "Detroit went on the air on October 9, 1948. In \u001b[48;2;144;238;144mOctober 1948\u001b[0m, as a result of an influx of \n",
       "television station license applications that it had issued as well as a study it undertook on\n",
       "the use of the VHF spectrum for broadcasting purposes, the FCC implemented a freeze on new \n",
       "station applications. However, KGO-TV in San Francisco, which had received its license prior \n",
       "to the freeze, made its debut on May 5, 1949. On May 7, 1949, Billboard revealed that ABC had\n",
       "proposed an investment of $6.25 million, of which it would spend $2.5 million to convert 20 \n",
       "acres (80,937 m2) of land in Hollywood into what would become The Prospect Studios, and \n",
       "construct a transmitter on Mount Wilson, in anticipation of the launch of KECA-TV, which was \n",
       "scheduled to begin operations on August 1 (but would not actually sign on until September \n",
       "16).\n"
      ]
     },
     "metadata": {},
     "output_type": "display_data"
    },
    {
     "data": {
      "text/html": [
       "<pre style=\"white-space:pre;overflow-x:auto;line-height:normal;font-family:Menlo,'DejaVu Sans Mono',consolas,'Courier New',monospace\">✅ October 1948                  \n",
       "</pre>\n"
      ],
      "text/plain": [
       "✅ October 1948                  \n"
      ]
     },
     "metadata": {},
     "output_type": "display_data"
    },
    {
     "data": {
      "text/html": [
       "<pre style=\"white-space:pre;overflow-x:auto;line-height:normal;font-family:Menlo,'DejaVu Sans Mono',consolas,'Courier New',monospace\"><span style=\"color: #800080; text-decoration-color: #800080\">───────────────────────────────────────── </span>Example 2<span style=\"color: #800080; text-decoration-color: #800080\"> ─────────────────────────────────────────</span>\n",
       "</pre>\n"
      ],
      "text/plain": [
       "\u001b[35m───────────────────────────────────────── \u001b[0mExample 2\u001b[35m ─────────────────────────────────────────\u001b[0m\n"
      ]
     },
     "metadata": {},
     "output_type": "display_data"
    },
    {
     "data": {
      "text/html": [
       "<pre style=\"white-space:pre;overflow-x:auto;line-height:normal;font-family:Menlo,'DejaVu Sans Mono',consolas,'Courier New',monospace\">❓ <span style=\"font-weight: bold\">How many tiers are in the Australian form of learning?</span>\n",
       "</pre>\n"
      ],
      "text/plain": [
       "❓ \u001b[1mHow many tiers are in the Australian form of learning?\u001b[0m\n"
      ]
     },
     "metadata": {},
     "output_type": "display_data"
    },
    {
     "data": {
      "text/html": [
       "<pre style=\"white-space:pre;overflow-x:auto;line-height:normal;font-family:Menlo,'DejaVu Sans Mono',consolas,'Courier New',monospace\">🤖 Education in Australia is primarily the responsibility of the individual states and \n",
       "territories. Generally, education in Australia follows the <span style=\"background-color: #90ee90\">three</span>-tier model which includes \n",
       "primary education (primary schools), followed by secondary education (secondary schools/high \n",
       "schools) and tertiary education (universities and/or TAFE colleges).\n",
       "</pre>\n"
      ],
      "text/plain": [
       "🤖 Education in Australia is primarily the responsibility of the individual states and \n",
       "territories. Generally, education in Australia follows the \u001b[48;2;144;238;144mthree\u001b[0m-tier model which includes \n",
       "primary education (primary schools), followed by secondary education (secondary schools/high \n",
       "schools) and tertiary education (universities and/or TAFE colleges).\n"
      ]
     },
     "metadata": {},
     "output_type": "display_data"
    },
    {
     "data": {
      "text/html": [
       "<pre style=\"white-space:pre;overflow-x:auto;line-height:normal;font-family:Menlo,'DejaVu Sans Mono',consolas,'Courier New',monospace\">✅ three                         \n",
       "</pre>\n"
      ],
      "text/plain": [
       "✅ three                         \n"
      ]
     },
     "metadata": {},
     "output_type": "display_data"
    },
    {
     "data": {
      "text/html": [
       "<pre style=\"white-space:pre;overflow-x:auto;line-height:normal;font-family:Menlo,'DejaVu Sans Mono',consolas,'Courier New',monospace\"><span style=\"color: #800080; text-decoration-color: #800080\">───────────────────────────────────────── </span>Example 3<span style=\"color: #800080; text-decoration-color: #800080\"> ─────────────────────────────────────────</span>\n",
       "</pre>\n"
      ],
      "text/plain": [
       "\u001b[35m───────────────────────────────────────── \u001b[0mExample 3\u001b[35m ─────────────────────────────────────────\u001b[0m\n"
      ]
     },
     "metadata": {},
     "output_type": "display_data"
    },
    {
     "data": {
      "text/html": [
       "<pre style=\"white-space:pre;overflow-x:auto;line-height:normal;font-family:Menlo,'DejaVu Sans Mono',consolas,'Courier New',monospace\">❓ <span style=\"font-weight: bold\">What US war has a large amount of Civil Disobedients?</span>\n",
       "</pre>\n"
      ],
      "text/plain": [
       "❓ \u001b[1mWhat US war has a large amount of Civil Disobedients?\u001b[0m\n"
      ]
     },
     "metadata": {},
     "output_type": "display_data"
    },
    {
     "data": {
      "text/html": [
       "<pre style=\"white-space:pre;overflow-x:auto;line-height:normal;font-family:Menlo,'DejaVu Sans Mono',consolas,'Courier New',monospace\">🤖 Steven Barkan writes that if defendants plead not guilty, \"they must decide whether their \n",
       "primary goal will be to win an acquittal and avoid imprisonment or a fine, or to use the \n",
       "proceedings as a forum to inform the jury and the public of the political circumstances \n",
       "surrounding the case and their reasons for breaking the law via civil disobedience.\" A \n",
       "technical defense may enhance the chances for acquittal but make for more boring proceedings \n",
       "and reduced press coverage. During the <span style=\"background-color: #90ee90\">Vietnam War</span> era, the Chicago Eight used a political \n",
       "defense, while Benjamin Spock used a technical defense. In countries such as the United \n",
       "States whose laws guarantee the right to a jury trial but do not excuse lawbreaking for \n",
       "political purposes, some civil disobedients seek jury nullification. Over the years, this has\n",
       "been made more difficult by court decisions such as Sparf v. United States, which held that \n",
       "the judge need not inform jurors of their nullification prerogative, and United States v. \n",
       "Dougherty, which held that the judge need not allow defendants to openly seek jury \n",
       "nullification.\n",
       "</pre>\n"
      ],
      "text/plain": [
       "🤖 Steven Barkan writes that if defendants plead not guilty, \"they must decide whether their \n",
       "primary goal will be to win an acquittal and avoid imprisonment or a fine, or to use the \n",
       "proceedings as a forum to inform the jury and the public of the political circumstances \n",
       "surrounding the case and their reasons for breaking the law via civil disobedience.\" A \n",
       "technical defense may enhance the chances for acquittal but make for more boring proceedings \n",
       "and reduced press coverage. During the \u001b[48;2;144;238;144mVietnam War\u001b[0m era, the Chicago Eight used a political \n",
       "defense, while Benjamin Spock used a technical defense. In countries such as the United \n",
       "States whose laws guarantee the right to a jury trial but do not excuse lawbreaking for \n",
       "political purposes, some civil disobedients seek jury nullification. Over the years, this has\n",
       "been made more difficult by court decisions such as Sparf v. United States, which held that \n",
       "the judge need not inform jurors of their nullification prerogative, and United States v. \n",
       "Dougherty, which held that the judge need not allow defendants to openly seek jury \n",
       "nullification.\n"
      ]
     },
     "metadata": {},
     "output_type": "display_data"
    },
    {
     "data": {
      "text/html": [
       "<pre style=\"white-space:pre;overflow-x:auto;line-height:normal;font-family:Menlo,'DejaVu Sans Mono',consolas,'Courier New',monospace\">✅ Vietnam War                   \n",
       "</pre>\n"
      ],
      "text/plain": [
       "✅ Vietnam War                   \n"
      ]
     },
     "metadata": {},
     "output_type": "display_data"
    },
    {
     "data": {
      "text/html": [
       "<pre style=\"white-space:pre;overflow-x:auto;line-height:normal;font-family:Menlo,'DejaVu Sans Mono',consolas,'Courier New',monospace\"><span style=\"color: #800080; text-decoration-color: #800080\">───────────────────────────────────────── </span>Example 4<span style=\"color: #800080; text-decoration-color: #800080\"> ─────────────────────────────────────────</span>\n",
       "</pre>\n"
      ],
      "text/plain": [
       "\u001b[35m───────────────────────────────────────── \u001b[0mExample 4\u001b[35m ─────────────────────────────────────────\u001b[0m\n"
      ]
     },
     "metadata": {},
     "output_type": "display_data"
    },
    {
     "data": {
      "text/html": [
       "<pre style=\"white-space:pre;overflow-x:auto;line-height:normal;font-family:Menlo,'DejaVu Sans Mono',consolas,'Courier New',monospace\">❓ <span style=\"font-weight: bold\">How did the Better Jacksonville Plan generate money?</span>\n",
       "</pre>\n"
      ],
      "text/plain": [
       "❓ \u001b[1mHow did the Better Jacksonville Plan generate money?\u001b[0m\n"
      ]
     },
     "metadata": {},
     "output_type": "display_data"
    },
    {
     "data": {
      "text/html": [
       "<pre style=\"white-space:pre;overflow-x:auto;line-height:normal;font-family:Menlo,'DejaVu Sans Mono',consolas,'Courier New',monospace\">🤖 When a consolidation referendum was held in 1967, voters approved the plan. On October 1, \n",
       "1968, the governments merged to create the Consolidated City of Jacksonville. Fire, police, \n",
       "health &amp; welfare, recreation, public works, and housing &amp; urban development were all combined\n",
       "under the new government. In honor of the occasion, then-Mayor Hans Tanzler posed with \n",
       "actress Lee Meredith behind a sign marking the new border of the \"Bold New City of the South\"\n",
       "at Florida 13 and Julington Creek. The Better Jacksonville Plan, promoted as a blueprint for \n",
       "Jacksonville's future and approved by Jacksonville voters in 2000, authorized a <span style=\"background-color: #90ee90\">half-penny </span>\n",
       "<span style=\"background-color: #90ee90\">sales tax</span>. This would generate most of the revenue required for the $2.25 billion package of \n",
       "major projects that included road &amp; infrastructure improvements, environmental preservation, \n",
       "targeted economic development and new or improved public facilities.\n",
       "</pre>\n"
      ],
      "text/plain": [
       "🤖 When a consolidation referendum was held in 1967, voters approved the plan. On October 1, \n",
       "1968, the governments merged to create the Consolidated City of Jacksonville. Fire, police, \n",
       "health & welfare, recreation, public works, and housing & urban development were all combined\n",
       "under the new government. In honor of the occasion, then-Mayor Hans Tanzler posed with \n",
       "actress Lee Meredith behind a sign marking the new border of the \"Bold New City of the South\"\n",
       "at Florida 13 and Julington Creek. The Better Jacksonville Plan, promoted as a blueprint for \n",
       "Jacksonville's future and approved by Jacksonville voters in 2000, authorized a \u001b[48;2;144;238;144mhalf-penny \u001b[0m\n",
       "\u001b[48;2;144;238;144msales tax\u001b[0m. This would generate most of the revenue required for the $2.25 billion package of \n",
       "major projects that included road & infrastructure improvements, environmental preservation, \n",
       "targeted economic development and new or improved public facilities.\n"
      ]
     },
     "metadata": {},
     "output_type": "display_data"
    },
    {
     "data": {
      "text/html": [
       "<pre style=\"white-space:pre;overflow-x:auto;line-height:normal;font-family:Menlo,'DejaVu Sans Mono',consolas,'Courier New',monospace\">✅ authorized a half-penny sales tax\n",
       "</pre>\n"
      ],
      "text/plain": [
       "✅ authorized a half-penny sales tax\n"
      ]
     },
     "metadata": {},
     "output_type": "display_data"
    },
    {
     "data": {
      "text/html": [
       "<pre style=\"white-space:pre;overflow-x:auto;line-height:normal;font-family:Menlo,'DejaVu Sans Mono',consolas,'Courier New',monospace\"><span style=\"color: #800080; text-decoration-color: #800080\">───────────────────────────────────────── </span>Example 5<span style=\"color: #800080; text-decoration-color: #800080\"> ─────────────────────────────────────────</span>\n",
       "</pre>\n"
      ],
      "text/plain": [
       "\u001b[35m───────────────────────────────────────── \u001b[0mExample 5\u001b[35m ─────────────────────────────────────────\u001b[0m\n"
      ]
     },
     "metadata": {},
     "output_type": "display_data"
    },
    {
     "data": {
      "text/html": [
       "<pre style=\"white-space:pre;overflow-x:auto;line-height:normal;font-family:Menlo,'DejaVu Sans Mono',consolas,'Courier New',monospace\">❓ <span style=\"font-weight: bold\">By how many kilometers does the traveling salesman problem seek to classify a route </span>\n",
       "<span style=\"font-weight: bold\">between the 15 largest cities in Germany?</span>\n",
       "</pre>\n"
      ],
      "text/plain": [
       "❓ \u001b[1mBy how many kilometers does the traveling salesman problem seek to classify a route \u001b[0m\n",
       "\u001b[1mbetween the 15 largest cities in Germany?\u001b[0m\n"
      ]
     },
     "metadata": {},
     "output_type": "display_data"
    },
    {
     "data": {
      "text/html": [
       "<pre style=\"white-space:pre;overflow-x:auto;line-height:normal;font-family:Menlo,'DejaVu Sans Mono',consolas,'Courier New',monospace\">🤖 To further highlight the difference between a problem and an instance, consider the \n",
       "following instance of the decision version of the traveling salesman problem: Is there a \n",
       "route of at most <span style=\"background-color: #90ee90\">2000</span> kilometres passing through all of Germany's 15 largest cities? The \n",
       "quantitative answer to this particular problem instance is of little use for solving other \n",
       "instances of the problem, such as asking for a round trip through all sites in Milan whose \n",
       "total length is at most 10 km. For this reason, complexity theory addresses computational \n",
       "problems and not particular problem instances.\n",
       "</pre>\n"
      ],
      "text/plain": [
       "🤖 To further highlight the difference between a problem and an instance, consider the \n",
       "following instance of the decision version of the traveling salesman problem: Is there a \n",
       "route of at most \u001b[48;2;144;238;144m2000\u001b[0m kilometres passing through all of Germany's 15 largest cities? The \n",
       "quantitative answer to this particular problem instance is of little use for solving other \n",
       "instances of the problem, such as asking for a round trip through all sites in Milan whose \n",
       "total length is at most 10 km. For this reason, complexity theory addresses computational \n",
       "problems and not particular problem instances.\n"
      ]
     },
     "metadata": {},
     "output_type": "display_data"
    },
    {
     "data": {
      "text/html": [
       "<pre style=\"white-space:pre;overflow-x:auto;line-height:normal;font-family:Menlo,'DejaVu Sans Mono',consolas,'Courier New',monospace\">✅ 2000                          \n",
       "</pre>\n"
      ],
      "text/plain": [
       "✅ 2000                          \n"
      ]
     },
     "metadata": {},
     "output_type": "display_data"
    },
    {
     "data": {
      "text/html": [
       "<pre style=\"white-space:pre;overflow-x:auto;line-height:normal;font-family:Menlo,'DejaVu Sans Mono',consolas,'Courier New',monospace\"><span style=\"color: #800080; text-decoration-color: #800080\">───────────────────────────────────────── </span>Example 6<span style=\"color: #800080; text-decoration-color: #800080\"> ─────────────────────────────────────────</span>\n",
       "</pre>\n"
      ],
      "text/plain": [
       "\u001b[35m───────────────────────────────────────── \u001b[0mExample 6\u001b[35m ─────────────────────────────────────────\u001b[0m\n"
      ]
     },
     "metadata": {},
     "output_type": "display_data"
    },
    {
     "data": {
      "text/html": [
       "<pre style=\"white-space:pre;overflow-x:auto;line-height:normal;font-family:Menlo,'DejaVu Sans Mono',consolas,'Courier New',monospace\">❓ <span style=\"font-weight: bold\">What was NewcastleGateshead voted in 2006?</span>\n",
       "</pre>\n"
      ],
      "text/plain": [
       "❓ \u001b[1mWhat was NewcastleGateshead voted in 2006?\u001b[0m\n"
      ]
     },
     "metadata": {},
     "output_type": "display_data"
    },
    {
     "data": {
      "text/html": [
       "<pre style=\"white-space:pre;overflow-x:auto;line-height:normal;font-family:Menlo,'DejaVu Sans Mono',consolas,'Courier New',monospace\">🤖 The city still contains many theatres. The largest, the Theatre Royal on Grey Street, \n",
       "first opened in 1837, designed by John and Benjamin Green. It has hosted a season of \n",
       "performances from the Royal Shakespeare Company for over 25 years, as well as touring \n",
       "productions of West End musicals. The Mill Volvo Tyne Theatre hosts smaller touring \n",
       "productions, whilst other venues feature local talent. Northern Stage, formally known as the \n",
       "Newcastle Playhouse and Gulbenkian Studio, hosts various local, national and international \n",
       "productions in addition to those produced by the Northern Stage company. Other theatres in \n",
       "the city include the Live Theatre, the People's Theatre and the Jubilee Theatre. \n",
       "NewcastleGateshead was voted in 2006 as <span style=\"background-color: #90ee90\">the arts capital of the UK</span> in a survey conducted by \n",
       "the Artsworld TV channel.\n",
       "</pre>\n"
      ],
      "text/plain": [
       "🤖 The city still contains many theatres. The largest, the Theatre Royal on Grey Street, \n",
       "first opened in 1837, designed by John and Benjamin Green. It has hosted a season of \n",
       "performances from the Royal Shakespeare Company for over 25 years, as well as touring \n",
       "productions of West End musicals. The Mill Volvo Tyne Theatre hosts smaller touring \n",
       "productions, whilst other venues feature local talent. Northern Stage, formally known as the \n",
       "Newcastle Playhouse and Gulbenkian Studio, hosts various local, national and international \n",
       "productions in addition to those produced by the Northern Stage company. Other theatres in \n",
       "the city include the Live Theatre, the People's Theatre and the Jubilee Theatre. \n",
       "NewcastleGateshead was voted in 2006 as \u001b[48;2;144;238;144mthe arts capital of the UK\u001b[0m in a survey conducted by \n",
       "the Artsworld TV channel.\n"
      ]
     },
     "metadata": {},
     "output_type": "display_data"
    },
    {
     "data": {
      "text/html": [
       "<pre style=\"white-space:pre;overflow-x:auto;line-height:normal;font-family:Menlo,'DejaVu Sans Mono',consolas,'Courier New',monospace\">✅ arts capital of the UK        \n",
       "</pre>\n"
      ],
      "text/plain": [
       "✅ arts capital of the UK        \n"
      ]
     },
     "metadata": {},
     "output_type": "display_data"
    },
    {
     "data": {
      "text/html": [
       "<pre style=\"white-space:pre;overflow-x:auto;line-height:normal;font-family:Menlo,'DejaVu Sans Mono',consolas,'Courier New',monospace\"><span style=\"color: #800080; text-decoration-color: #800080\">───────────────────────────────────────── </span>Example 7<span style=\"color: #800080; text-decoration-color: #800080\"> ─────────────────────────────────────────</span>\n",
       "</pre>\n"
      ],
      "text/plain": [
       "\u001b[35m───────────────────────────────────────── \u001b[0mExample 7\u001b[35m ─────────────────────────────────────────\u001b[0m\n"
      ]
     },
     "metadata": {},
     "output_type": "display_data"
    },
    {
     "data": {
      "text/html": [
       "<pre style=\"white-space:pre;overflow-x:auto;line-height:normal;font-family:Menlo,'DejaVu Sans Mono',consolas,'Courier New',monospace\">❓ <span style=\"font-weight: bold\">How many solo tackles did Von Miller make at Super Bowl 50?</span>\n",
       "</pre>\n"
      ],
      "text/plain": [
       "❓ \u001b[1mHow many solo tackles did Von Miller make at Super Bowl 50?\u001b[0m\n"
      ]
     },
     "metadata": {},
     "output_type": "display_data"
    },
    {
     "data": {
      "text/html": [
       "<pre style=\"white-space:pre;overflow-x:auto;line-height:normal;font-family:Menlo,'DejaVu Sans Mono',consolas,'Courier New',monospace\">🤖 The Broncos took an early lead in Super Bowl 50 and never trailed. Newton was limited by \n",
       "Denver's defense, which sacked him seven times and forced him into three turnovers, including\n",
       "a fumble which they recovered for a touchdown. Denver linebacker Von Miller was named Super \n",
       "Bowl MVP, recording <span style=\"background-color: #90ee90\">five</span> solo tackles, 2½ sacks, and two forced fumbles.\n",
       "</pre>\n"
      ],
      "text/plain": [
       "🤖 The Broncos took an early lead in Super Bowl 50 and never trailed. Newton was limited by \n",
       "Denver's defense, which sacked him seven times and forced him into three turnovers, including\n",
       "a fumble which they recovered for a touchdown. Denver linebacker Von Miller was named Super \n",
       "Bowl MVP, recording \u001b[48;2;144;238;144mfive\u001b[0m solo tackles, 2½ sacks, and two forced fumbles.\n"
      ]
     },
     "metadata": {},
     "output_type": "display_data"
    },
    {
     "data": {
      "text/html": [
       "<pre style=\"white-space:pre;overflow-x:auto;line-height:normal;font-family:Menlo,'DejaVu Sans Mono',consolas,'Courier New',monospace\">✅ five solo tackles             \n",
       "</pre>\n"
      ],
      "text/plain": [
       "✅ five solo tackles             \n"
      ]
     },
     "metadata": {},
     "output_type": "display_data"
    },
    {
     "data": {
      "text/html": [
       "<pre style=\"white-space:pre;overflow-x:auto;line-height:normal;font-family:Menlo,'DejaVu Sans Mono',consolas,'Courier New',monospace\"><span style=\"color: #800080; text-decoration-color: #800080\">───────────────────────────────────────── </span>Example 8<span style=\"color: #800080; text-decoration-color: #800080\"> ─────────────────────────────────────────</span>\n",
       "</pre>\n"
      ],
      "text/plain": [
       "\u001b[35m───────────────────────────────────────── \u001b[0mExample 8\u001b[35m ─────────────────────────────────────────\u001b[0m\n"
      ]
     },
     "metadata": {},
     "output_type": "display_data"
    },
    {
     "data": {
      "text/html": [
       "<pre style=\"white-space:pre;overflow-x:auto;line-height:normal;font-family:Menlo,'DejaVu Sans Mono',consolas,'Courier New',monospace\">❓ <span style=\"font-weight: bold\">What is usual form of oxygen bound compounds?</span>\n",
       "</pre>\n"
      ],
      "text/plain": [
       "❓ \u001b[1mWhat is usual form of oxygen bound compounds?\u001b[0m\n"
      ]
     },
     "metadata": {},
     "output_type": "display_data"
    },
    {
     "data": {
      "text/html": [
       "<pre style=\"white-space:pre;overflow-x:auto;line-height:normal;font-family:Menlo,'DejaVu Sans Mono',consolas,'Courier New',monospace\">🤖 Due to its electronegativity, oxygen forms chemical bonds with almost all other elements \n",
       "to give corresponding <span style=\"background-color: #90ee90\">oxides</span>. The surface of most metals, such as aluminium and titanium, are\n",
       "oxidized in the presence of air and become coated with a thin film of oxide that passivates \n",
       "the metal and slows further corrosion. Many oxides of the transition metals are \n",
       "non-stoichiometric compounds, with slightly less metal than the chemical formula would show. \n",
       "For example, the mineral FeO (wüstite) is written as Fe\n",
       "1 − xO, where x is usually around 0.05.\n",
       "</pre>\n"
      ],
      "text/plain": [
       "🤖 Due to its electronegativity, oxygen forms chemical bonds with almost all other elements \n",
       "to give corresponding \u001b[48;2;144;238;144moxides\u001b[0m. The surface of most metals, such as aluminium and titanium, are\n",
       "oxidized in the presence of air and become coated with a thin film of oxide that passivates \n",
       "the metal and slows further corrosion. Many oxides of the transition metals are \n",
       "non-stoichiometric compounds, with slightly less metal than the chemical formula would show. \n",
       "For example, the mineral FeO (wüstite) is written as Fe\n",
       "1 − xO, where x is usually around 0.05.\n"
      ]
     },
     "metadata": {},
     "output_type": "display_data"
    },
    {
     "data": {
      "text/html": [
       "<pre style=\"white-space:pre;overflow-x:auto;line-height:normal;font-family:Menlo,'DejaVu Sans Mono',consolas,'Courier New',monospace\">✅ oxides                        \n",
       "</pre>\n"
      ],
      "text/plain": [
       "✅ oxides                        \n"
      ]
     },
     "metadata": {},
     "output_type": "display_data"
    },
    {
     "data": {
      "text/html": [
       "<pre style=\"white-space:pre;overflow-x:auto;line-height:normal;font-family:Menlo,'DejaVu Sans Mono',consolas,'Courier New',monospace\"><span style=\"color: #800080; text-decoration-color: #800080\">───────────────────────────────────────── </span>Example 9<span style=\"color: #800080; text-decoration-color: #800080\"> ─────────────────────────────────────────</span>\n",
       "</pre>\n"
      ],
      "text/plain": [
       "\u001b[35m───────────────────────────────────────── \u001b[0mExample 9\u001b[35m ─────────────────────────────────────────\u001b[0m\n"
      ]
     },
     "metadata": {},
     "output_type": "display_data"
    },
    {
     "data": {
      "text/html": [
       "<pre style=\"white-space:pre;overflow-x:auto;line-height:normal;font-family:Menlo,'DejaVu Sans Mono',consolas,'Courier New',monospace\">❓ <span style=\"font-weight: bold\">In what form is oxygen transported in smaller containers?</span>\n",
       "</pre>\n"
      ],
      "text/plain": [
       "❓ \u001b[1mIn what form is oxygen transported in smaller containers?\u001b[0m\n"
      ]
     },
     "metadata": {},
     "output_type": "display_data"
    },
    {
     "data": {
      "text/html": [
       "<pre style=\"white-space:pre;overflow-x:auto;line-height:normal;font-family:Menlo,'DejaVu Sans Mono',consolas,'Courier New',monospace\">🤖 Oxygen storage methods include high pressure oxygen tanks, cryogenics and chemical \n",
       "compounds. For reasons of economy, oxygen is often transported in bulk as a liquid in \n",
       "specially insulated tankers, since one liter of liquefied oxygen is equivalent to 840 liters \n",
       "of gaseous oxygen at atmospheric pressure and 20 °C (68 °F). Such tankers are used to refill \n",
       "bulk liquid oxygen storage containers, which stand outside hospitals and other institutions \n",
       "with a need for large volumes of pure oxygen gas. Liquid oxygen is passed through heat \n",
       "exchangers, which convert the cryogenic liquid into gas before it enters the building. Oxygen\n",
       "is also stored and shipped in smaller cylinders containing the <span style=\"background-color: #90ee90\">compressed gas</span>; a form that is\n",
       "useful in certain portable medical applications and oxy-fuel welding and cutting.\n",
       "</pre>\n"
      ],
      "text/plain": [
       "🤖 Oxygen storage methods include high pressure oxygen tanks, cryogenics and chemical \n",
       "compounds. For reasons of economy, oxygen is often transported in bulk as a liquid in \n",
       "specially insulated tankers, since one liter of liquefied oxygen is equivalent to 840 liters \n",
       "of gaseous oxygen at atmospheric pressure and 20 °C (68 °F). Such tankers are used to refill \n",
       "bulk liquid oxygen storage containers, which stand outside hospitals and other institutions \n",
       "with a need for large volumes of pure oxygen gas. Liquid oxygen is passed through heat \n",
       "exchangers, which convert the cryogenic liquid into gas before it enters the building. Oxygen\n",
       "is also stored and shipped in smaller cylinders containing the \u001b[48;2;144;238;144mcompressed gas\u001b[0m; a form that is\n",
       "useful in certain portable medical applications and oxy-fuel welding and cutting.\n"
      ]
     },
     "metadata": {},
     "output_type": "display_data"
    },
    {
     "data": {
      "text/html": [
       "<pre style=\"white-space:pre;overflow-x:auto;line-height:normal;font-family:Menlo,'DejaVu Sans Mono',consolas,'Courier New',monospace\">✅ compressed gas                \n",
       "</pre>\n"
      ],
      "text/plain": [
       "✅ compressed gas                \n"
      ]
     },
     "metadata": {},
     "output_type": "display_data"
    },
    {
     "data": {
      "text/html": [
       "<pre style=\"white-space:pre;overflow-x:auto;line-height:normal;font-family:Menlo,'DejaVu Sans Mono',consolas,'Courier New',monospace\"><span style=\"color: #800080; text-decoration-color: #800080\">──────────────────────────────────────── </span>Example 10<span style=\"color: #800080; text-decoration-color: #800080\"> ─────────────────────────────────────────</span>\n",
       "</pre>\n"
      ],
      "text/plain": [
       "\u001b[35m──────────────────────────────────────── \u001b[0mExample 10\u001b[35m ─────────────────────────────────────────\u001b[0m\n"
      ]
     },
     "metadata": {},
     "output_type": "display_data"
    },
    {
     "data": {
      "text/html": [
       "<pre style=\"white-space:pre;overflow-x:auto;line-height:normal;font-family:Menlo,'DejaVu Sans Mono',consolas,'Courier New',monospace\">❓ <span style=\"font-weight: bold\">What profession does Zbigniew Badowski have?</span>\n",
       "</pre>\n"
      ],
      "text/plain": [
       "❓ \u001b[1mWhat profession does Zbigniew Badowski have?\u001b[0m\n"
      ]
     },
     "metadata": {},
     "output_type": "display_data"
    },
    {
     "data": {
      "text/html": [
       "<pre style=\"white-space:pre;overflow-x:auto;line-height:normal;font-family:Menlo,'DejaVu Sans Mono',consolas,'Courier New',monospace\">🤖 Another important library – the University Library, founded in 1816, is home to over two \n",
       "million items. The building was designed by <span style=\"background-color: #90ee90\">architects</span> Marek Budzyński and Zbigniew Badowski \n",
       "and opened on 15 December 1999. It is surrounded by green. The University Library garden, \n",
       "designed by Irena Bajerska, was opened on 12 June 2002. It is one of the largest and most \n",
       "beautiful roof gardens in Europe with an area of more than 10,000 m2 (107,639.10 sq ft), and \n",
       "plants covering 5,111 m2 (55,014.35 sq ft). As the university garden it is open to the public\n",
       "every day.\n",
       "</pre>\n"
      ],
      "text/plain": [
       "🤖 Another important library – the University Library, founded in 1816, is home to over two \n",
       "million items. The building was designed by \u001b[48;2;144;238;144marchitects\u001b[0m Marek Budzyński and Zbigniew Badowski \n",
       "and opened on 15 December 1999. It is surrounded by green. The University Library garden, \n",
       "designed by Irena Bajerska, was opened on 12 June 2002. It is one of the largest and most \n",
       "beautiful roof gardens in Europe with an area of more than 10,000 m2 (107,639.10 sq ft), and \n",
       "plants covering 5,111 m2 (55,014.35 sq ft). As the university garden it is open to the public\n",
       "every day.\n"
      ]
     },
     "metadata": {},
     "output_type": "display_data"
    },
    {
     "data": {
      "text/html": [
       "<pre style=\"white-space:pre;overflow-x:auto;line-height:normal;font-family:Menlo,'DejaVu Sans Mono',consolas,'Courier New',monospace\">✅ architects                    \n",
       "</pre>\n"
      ],
      "text/plain": [
       "✅ architects                    \n"
      ]
     },
     "metadata": {},
     "output_type": "display_data"
    },
    {
     "data": {
      "text/html": [
       "<pre style=\"white-space:pre;overflow-x:auto;line-height:normal;font-family:Menlo,'DejaVu Sans Mono',consolas,'Courier New',monospace\"><span style=\"color: #800080; text-decoration-color: #800080\">──────────────────────────────────────── </span>Example 11<span style=\"color: #800080; text-decoration-color: #800080\"> ─────────────────────────────────────────</span>\n",
       "</pre>\n"
      ],
      "text/plain": [
       "\u001b[35m──────────────────────────────────────── \u001b[0mExample 11\u001b[35m ─────────────────────────────────────────\u001b[0m\n"
      ]
     },
     "metadata": {},
     "output_type": "display_data"
    },
    {
     "data": {
      "text/html": [
       "<pre style=\"white-space:pre;overflow-x:auto;line-height:normal;font-family:Menlo,'DejaVu Sans Mono',consolas,'Courier New',monospace\">❓ <span style=\"font-weight: bold\">When did Tesla enroll in Austrian Polytechnic?</span>\n",
       "</pre>\n"
      ],
      "text/plain": [
       "❓ \u001b[1mWhen did Tesla enroll in Austrian Polytechnic?\u001b[0m\n"
      ]
     },
     "metadata": {},
     "output_type": "display_data"
    },
    {
     "data": {
      "text/html": [
       "<pre style=\"white-space:pre;overflow-x:auto;line-height:normal;font-family:Menlo,'DejaVu Sans Mono',consolas,'Courier New',monospace\">🤖 In <span style=\"background-color: #90ee90\">1875</span>, Tesla enrolled at Austrian Polytechnic in Graz, Austria, on a Military Frontier \n",
       "scholarship. During his first year, Tesla never missed a lecture, earned the highest grades \n",
       "possible, passed nine exams (nearly twice as many required), started a Serbian culture club, \n",
       "and even received a letter of commendation from the dean of the technical faculty to his \n",
       "father, which stated, \"Your son is a star of first rank.\" Tesla claimed that he worked from 3\n",
       "a.m. to 11 p.m., no Sundays or holidays excepted. He was \"mortified when [his] father made \n",
       "light of [those] hard won honors.\" After his father's death in 1879, Tesla found a package of\n",
       "letters from his professors to his father, warning that unless he were removed from the \n",
       "school, Tesla would be killed through overwork. During his second year, Tesla came into \n",
       "conflict with Professor Poeschl over the Gramme dynamo, when Tesla suggested that commutators\n",
       "weren't necessary. At the end of his second year, Tesla lost his scholarship and became \n",
       "addicted to gambling. During his third year, Tesla gambled away his allowance and his tuition\n",
       "money, later gambling back his initial losses and returning the balance to his family. Tesla \n",
       "said that he \"conquered [his] passion then and there,\" but later he was known to play \n",
       "billiards in the US. When exam time came, Tesla was unprepared and asked for an extension to \n",
       "study, but was denied. He never graduated from the university and did not receive grades for \n",
       "the last semester.\n",
       "</pre>\n"
      ],
      "text/plain": [
       "🤖 In \u001b[48;2;144;238;144m1875\u001b[0m, Tesla enrolled at Austrian Polytechnic in Graz, Austria, on a Military Frontier \n",
       "scholarship. During his first year, Tesla never missed a lecture, earned the highest grades \n",
       "possible, passed nine exams (nearly twice as many required), started a Serbian culture club, \n",
       "and even received a letter of commendation from the dean of the technical faculty to his \n",
       "father, which stated, \"Your son is a star of first rank.\" Tesla claimed that he worked from 3\n",
       "a.m. to 11 p.m., no Sundays or holidays excepted. He was \"mortified when [his] father made \n",
       "light of [those] hard won honors.\" After his father's death in 1879, Tesla found a package of\n",
       "letters from his professors to his father, warning that unless he were removed from the \n",
       "school, Tesla would be killed through overwork. During his second year, Tesla came into \n",
       "conflict with Professor Poeschl over the Gramme dynamo, when Tesla suggested that commutators\n",
       "weren't necessary. At the end of his second year, Tesla lost his scholarship and became \n",
       "addicted to gambling. During his third year, Tesla gambled away his allowance and his tuition\n",
       "money, later gambling back his initial losses and returning the balance to his family. Tesla \n",
       "said that he \"conquered [his] passion then and there,\" but later he was known to play \n",
       "billiards in the US. When exam time came, Tesla was unprepared and asked for an extension to \n",
       "study, but was denied. He never graduated from the university and did not receive grades for \n",
       "the last semester.\n"
      ]
     },
     "metadata": {},
     "output_type": "display_data"
    },
    {
     "data": {
      "text/html": [
       "<pre style=\"white-space:pre;overflow-x:auto;line-height:normal;font-family:Menlo,'DejaVu Sans Mono',consolas,'Courier New',monospace\">✅ 1875                          \n",
       "</pre>\n"
      ],
      "text/plain": [
       "✅ 1875                          \n"
      ]
     },
     "metadata": {},
     "output_type": "display_data"
    },
    {
     "data": {
      "text/html": [
       "<pre style=\"white-space:pre;overflow-x:auto;line-height:normal;font-family:Menlo,'DejaVu Sans Mono',consolas,'Courier New',monospace\"><span style=\"color: #800080; text-decoration-color: #800080\">──────────────────────────────────────── </span>Example 12<span style=\"color: #800080; text-decoration-color: #800080\"> ─────────────────────────────────────────</span>\n",
       "</pre>\n"
      ],
      "text/plain": [
       "\u001b[35m──────────────────────────────────────── \u001b[0mExample 12\u001b[35m ─────────────────────────────────────────\u001b[0m\n"
      ]
     },
     "metadata": {},
     "output_type": "display_data"
    },
    {
     "data": {
      "text/html": [
       "<pre style=\"white-space:pre;overflow-x:auto;line-height:normal;font-family:Menlo,'DejaVu Sans Mono',consolas,'Courier New',monospace\">❓ <span style=\"font-weight: bold\">What is one way to use pure speech to reach as much people as possible to protest?</span>\n",
       "</pre>\n"
      ],
      "text/plain": [
       "❓ \u001b[1mWhat is one way to use pure speech to reach as much people as possible to protest?\u001b[0m\n"
      ]
     },
     "metadata": {},
     "output_type": "display_data"
    },
    {
     "data": {
      "text/html": [
       "<pre style=\"white-space:pre;overflow-x:auto;line-height:normal;font-family:Menlo,'DejaVu Sans Mono',consolas,'Courier New',monospace\">🤖 In cases where the criminalized behavior is pure speech, civil disobedience can consist \n",
       "simply of engaging in the forbidden speech. An example would be WBAI's broadcasting the track\n",
       "\"Filthy Words\" from a George Carlin comedy album, which eventually led to the 1978 Supreme \n",
       "Court case of FCC v. Pacifica Foundation. <span style=\"background-color: #90ee90\">Threatening government officials</span> is another classic\n",
       "way of expressing defiance toward the government and unwillingness to stand for its policies.\n",
       "For example, Joseph Haas was arrested for allegedly sending an email to the Lebanon, New \n",
       "Hampshire city councilors stating, \"Wise up or die.\"\n",
       "</pre>\n"
      ],
      "text/plain": [
       "🤖 In cases where the criminalized behavior is pure speech, civil disobedience can consist \n",
       "simply of engaging in the forbidden speech. An example would be WBAI's broadcasting the track\n",
       "\"Filthy Words\" from a George Carlin comedy album, which eventually led to the 1978 Supreme \n",
       "Court case of FCC v. Pacifica Foundation. \u001b[48;2;144;238;144mThreatening government officials\u001b[0m is another classic\n",
       "way of expressing defiance toward the government and unwillingness to stand for its policies.\n",
       "For example, Joseph Haas was arrested for allegedly sending an email to the Lebanon, New \n",
       "Hampshire city councilors stating, \"Wise up or die.\"\n"
      ]
     },
     "metadata": {},
     "output_type": "display_data"
    },
    {
     "data": {
      "text/html": [
       "<pre style=\"white-space:pre;overflow-x:auto;line-height:normal;font-family:Menlo,'DejaVu Sans Mono',consolas,'Courier New',monospace\">✅ broadcasting                  \n",
       "</pre>\n"
      ],
      "text/plain": [
       "✅ broadcasting                  \n"
      ]
     },
     "metadata": {},
     "output_type": "display_data"
    },
    {
     "data": {
      "text/html": [
       "<pre style=\"white-space:pre;overflow-x:auto;line-height:normal;font-family:Menlo,'DejaVu Sans Mono',consolas,'Courier New',monospace\"><span style=\"color: #800080; text-decoration-color: #800080\">──────────────────────────────────────── </span>Example 13<span style=\"color: #800080; text-decoration-color: #800080\"> ─────────────────────────────────────────</span>\n",
       "</pre>\n"
      ],
      "text/plain": [
       "\u001b[35m──────────────────────────────────────── \u001b[0mExample 13\u001b[35m ─────────────────────────────────────────\u001b[0m\n"
      ]
     },
     "metadata": {},
     "output_type": "display_data"
    },
    {
     "data": {
      "text/html": [
       "<pre style=\"white-space:pre;overflow-x:auto;line-height:normal;font-family:Menlo,'DejaVu Sans Mono',consolas,'Courier New',monospace\">❓ <span style=\"font-weight: bold\">What building material does the entrance hall and flanking staircases use predominantly?</span>\n",
       "</pre>\n"
      ],
      "text/plain": [
       "❓ \u001b[1mWhat building material does the entrance hall and flanking staircases use predominantly?\u001b[0m\n"
      ]
     },
     "metadata": {},
     "output_type": "display_data"
    },
    {
     "data": {
      "text/html": [
       "<pre style=\"white-space:pre;overflow-x:auto;line-height:normal;font-family:Menlo,'DejaVu Sans Mono',consolas,'Courier New',monospace\">🤖 Prince Albert appears within the main arch above the twin entrances, Queen Victoria above \n",
       "the frame around the arches and entrance, sculpted by Alfred Drury. These façades surround \n",
       "four levels of galleries. Other areas designed by Webb include the Entrance Hall and Rotunda,\n",
       "the East and West Halls, the areas occupied by the shop and Asian Galleries as well as the \n",
       "Costume Gallery. The interior makes much use of <span style=\"background-color: #90ee90\">marble</span> in the entrance hall and flanking \n",
       "staircases, although the galleries as originally designed were white with restrained \n",
       "classical detail and mouldings, very much in contrast to the elaborate decoration of the \n",
       "Victorian galleries, although much of this decoration was removed in the early 20th century.\n",
       "</pre>\n"
      ],
      "text/plain": [
       "🤖 Prince Albert appears within the main arch above the twin entrances, Queen Victoria above \n",
       "the frame around the arches and entrance, sculpted by Alfred Drury. These façades surround \n",
       "four levels of galleries. Other areas designed by Webb include the Entrance Hall and Rotunda,\n",
       "the East and West Halls, the areas occupied by the shop and Asian Galleries as well as the \n",
       "Costume Gallery. The interior makes much use of \u001b[48;2;144;238;144mmarble\u001b[0m in the entrance hall and flanking \n",
       "staircases, although the galleries as originally designed were white with restrained \n",
       "classical detail and mouldings, very much in contrast to the elaborate decoration of the \n",
       "Victorian galleries, although much of this decoration was removed in the early 20th century.\n"
      ]
     },
     "metadata": {},
     "output_type": "display_data"
    },
    {
     "data": {
      "text/html": [
       "<pre style=\"white-space:pre;overflow-x:auto;line-height:normal;font-family:Menlo,'DejaVu Sans Mono',consolas,'Courier New',monospace\">✅ marble                        \n",
       "</pre>\n"
      ],
      "text/plain": [
       "✅ marble                        \n"
      ]
     },
     "metadata": {},
     "output_type": "display_data"
    },
    {
     "data": {
      "text/html": [
       "<pre style=\"white-space:pre;overflow-x:auto;line-height:normal;font-family:Menlo,'DejaVu Sans Mono',consolas,'Courier New',monospace\"><span style=\"color: #800080; text-decoration-color: #800080\">──────────────────────────────────────── </span>Example 14<span style=\"color: #800080; text-decoration-color: #800080\"> ─────────────────────────────────────────</span>\n",
       "</pre>\n"
      ],
      "text/plain": [
       "\u001b[35m──────────────────────────────────────── \u001b[0mExample 14\u001b[35m ─────────────────────────────────────────\u001b[0m\n"
      ]
     },
     "metadata": {},
     "output_type": "display_data"
    },
    {
     "data": {
      "text/html": [
       "<pre style=\"white-space:pre;overflow-x:auto;line-height:normal;font-family:Menlo,'DejaVu Sans Mono',consolas,'Courier New',monospace\">❓ <span style=\"font-weight: bold\">Who developed the same technology as Baran </span>\n",
       "</pre>\n"
      ],
      "text/plain": [
       "❓ \u001b[1mWho developed the same technology as Baran \u001b[0m\n"
      ]
     },
     "metadata": {},
     "output_type": "display_data"
    },
    {
     "data": {
      "text/html": [
       "<pre style=\"white-space:pre;overflow-x:auto;line-height:normal;font-family:Menlo,'DejaVu Sans Mono',consolas,'Courier New',monospace\">🤖 Starting in 1965, <span style=\"background-color: #90ee90\">Donald Davies</span> at the National Physical Laboratory, UK, independently \n",
       "developed the same message routing methodology as developed by Baran. He called it packet \n",
       "switching, a more accessible name than Baran's, and proposed to build a nationwide network in\n",
       "the UK. He gave a talk on the proposal in 1966, after which a person from the Ministry of \n",
       "Defence (MoD) told him about Baran's work. A member of Davies' team (Roger Scantlebury) met \n",
       "Lawrence Roberts at the 1967 ACM Symposium on Operating System Principles and suggested it \n",
       "for use in the ARPANET.\n",
       "</pre>\n"
      ],
      "text/plain": [
       "🤖 Starting in 1965, \u001b[48;2;144;238;144mDonald Davies\u001b[0m at the National Physical Laboratory, UK, independently \n",
       "developed the same message routing methodology as developed by Baran. He called it packet \n",
       "switching, a more accessible name than Baran's, and proposed to build a nationwide network in\n",
       "the UK. He gave a talk on the proposal in 1966, after which a person from the Ministry of \n",
       "Defence (MoD) told him about Baran's work. A member of Davies' team (Roger Scantlebury) met \n",
       "Lawrence Roberts at the 1967 ACM Symposium on Operating System Principles and suggested it \n",
       "for use in the ARPANET.\n"
      ]
     },
     "metadata": {},
     "output_type": "display_data"
    },
    {
     "data": {
      "text/html": [
       "<pre style=\"white-space:pre;overflow-x:auto;line-height:normal;font-family:Menlo,'DejaVu Sans Mono',consolas,'Courier New',monospace\">✅ Donald Davies                 \n",
       "</pre>\n"
      ],
      "text/plain": [
       "✅ Donald Davies                 \n"
      ]
     },
     "metadata": {},
     "output_type": "display_data"
    },
    {
     "data": {
      "text/html": [
       "<pre style=\"white-space:pre;overflow-x:auto;line-height:normal;font-family:Menlo,'DejaVu Sans Mono',consolas,'Courier New',monospace\"><span style=\"color: #800080; text-decoration-color: #800080\">──────────────────────────────────────── </span>Example 15<span style=\"color: #800080; text-decoration-color: #800080\"> ─────────────────────────────────────────</span>\n",
       "</pre>\n"
      ],
      "text/plain": [
       "\u001b[35m──────────────────────────────────────── \u001b[0mExample 15\u001b[35m ─────────────────────────────────────────\u001b[0m\n"
      ]
     },
     "metadata": {},
     "output_type": "display_data"
    },
    {
     "data": {
      "text/html": [
       "<pre style=\"white-space:pre;overflow-x:auto;line-height:normal;font-family:Menlo,'DejaVu Sans Mono',consolas,'Courier New',monospace\">❓ <span style=\"font-weight: bold\">When was a third visit to Mnafeld scheduled? </span>\n",
       "</pre>\n"
      ],
      "text/plain": [
       "❓ \u001b[1mWhen was a third visit to Mnafeld scheduled? \u001b[0m\n"
      ]
     },
     "metadata": {},
     "output_type": "display_data"
    },
    {
     "data": {
      "text/html": [
       "<pre style=\"white-space:pre;overflow-x:auto;line-height:normal;font-family:Menlo,'DejaVu Sans Mono',consolas,'Courier New',monospace\">🤖 Luther's final journey, to Mansfeld, was taken because of his concern for his siblings' \n",
       "families continuing in their father Hans Luther's copper mining trade. Their livelihood was \n",
       "threatened by Count Albrecht of Mansfeld bringing the industry under his own control. The \n",
       "controversy that ensued involved all four Mansfeld counts: Albrecht, Philip, John George, and\n",
       "Gerhard. Luther journeyed to Mansfeld twice in late 1545 to participate in the negotiations \n",
       "for a settlement, and a third visit was needed in <span style=\"background-color: #90ee90\">early 1546</span> for their completion.\n",
       "</pre>\n"
      ],
      "text/plain": [
       "🤖 Luther's final journey, to Mansfeld, was taken because of his concern for his siblings' \n",
       "families continuing in their father Hans Luther's copper mining trade. Their livelihood was \n",
       "threatened by Count Albrecht of Mansfeld bringing the industry under his own control. The \n",
       "controversy that ensued involved all four Mansfeld counts: Albrecht, Philip, John George, and\n",
       "Gerhard. Luther journeyed to Mansfeld twice in late 1545 to participate in the negotiations \n",
       "for a settlement, and a third visit was needed in \u001b[48;2;144;238;144mearly 1546\u001b[0m for their completion.\n"
      ]
     },
     "metadata": {},
     "output_type": "display_data"
    },
    {
     "data": {
      "text/html": [
       "<pre style=\"white-space:pre;overflow-x:auto;line-height:normal;font-family:Menlo,'DejaVu Sans Mono',consolas,'Courier New',monospace\">✅ early 1546                    \n",
       "</pre>\n"
      ],
      "text/plain": [
       "✅ early 1546                    \n"
      ]
     },
     "metadata": {},
     "output_type": "display_data"
    },
    {
     "data": {
      "text/html": [
       "<pre style=\"white-space:pre;overflow-x:auto;line-height:normal;font-family:Menlo,'DejaVu Sans Mono',consolas,'Courier New',monospace\"><span style=\"color: #800080; text-decoration-color: #800080\">──────────────────────────────────────── </span>Example 16<span style=\"color: #800080; text-decoration-color: #800080\"> ─────────────────────────────────────────</span>\n",
       "</pre>\n"
      ],
      "text/plain": [
       "\u001b[35m──────────────────────────────────────── \u001b[0mExample 16\u001b[35m ─────────────────────────────────────────\u001b[0m\n"
      ]
     },
     "metadata": {},
     "output_type": "display_data"
    },
    {
     "data": {
      "text/html": [
       "<pre style=\"white-space:pre;overflow-x:auto;line-height:normal;font-family:Menlo,'DejaVu Sans Mono',consolas,'Courier New',monospace\">❓ <span style=\"font-weight: bold\">Who did President Kibaki run against?</span>\n",
       "</pre>\n"
      ],
      "text/plain": [
       "❓ \u001b[1mWho did President Kibaki run against?\u001b[0m\n"
      ]
     },
     "metadata": {},
     "output_type": "display_data"
    },
    {
     "data": {
      "text/html": [
       "<pre style=\"white-space:pre;overflow-x:auto;line-height:normal;font-family:Menlo,'DejaVu Sans Mono',consolas,'Courier New',monospace\">🤖 In the Presidential elections, President Kibaki under the Party of National Unity ran for \n",
       "re-election against the main opposition party, the <span style=\"background-color: #90ee90\">Orange Democratic Movement (ODM)</span>. The \n",
       "elections were seen to have been flawed with international observers saying that they were \n",
       "below international standards. After a split which took a crucial 8% of the votes away from \n",
       "the ODM to the newly formed Orange Democratic Movement-Kenya (ODM-K)'s candidate, Kalonzo \n",
       "Musyoka, the race tightened between ODM candidate Raila Odinga and Kibaki. As the count came \n",
       "into the Electoral Commission of Kenya (ECK) headquarters, Odinga was shown to have a slight,\n",
       "and then substantial lead as the results from his strongholds came in early. As the ECK \n",
       "continued to count the votes, Kibaki closed the gap and then overtook his opponent by a \n",
       "substantial margin after votes from his stronghold arrived later. This led to protests and \n",
       "open discrediting of the ECK for complicity and to Odinga declaring himself the \"people's \n",
       "president\" and calling for a recount.\n",
       "</pre>\n"
      ],
      "text/plain": [
       "🤖 In the Presidential elections, President Kibaki under the Party of National Unity ran for \n",
       "re-election against the main opposition party, the \u001b[48;2;144;238;144mOrange Democratic Movement (ODM)\u001b[0m. The \n",
       "elections were seen to have been flawed with international observers saying that they were \n",
       "below international standards. After a split which took a crucial 8% of the votes away from \n",
       "the ODM to the newly formed Orange Democratic Movement-Kenya (ODM-K)'s candidate, Kalonzo \n",
       "Musyoka, the race tightened between ODM candidate Raila Odinga and Kibaki. As the count came \n",
       "into the Electoral Commission of Kenya (ECK) headquarters, Odinga was shown to have a slight,\n",
       "and then substantial lead as the results from his strongholds came in early. As the ECK \n",
       "continued to count the votes, Kibaki closed the gap and then overtook his opponent by a \n",
       "substantial margin after votes from his stronghold arrived later. This led to protests and \n",
       "open discrediting of the ECK for complicity and to Odinga declaring himself the \"people's \n",
       "president\" and calling for a recount.\n"
      ]
     },
     "metadata": {},
     "output_type": "display_data"
    },
    {
     "data": {
      "text/html": [
       "<pre style=\"white-space:pre;overflow-x:auto;line-height:normal;font-family:Menlo,'DejaVu Sans Mono',consolas,'Courier New',monospace\">✅ the Orange Democratic Movement (ODM)\n",
       "</pre>\n"
      ],
      "text/plain": [
       "✅ the Orange Democratic Movement (ODM)\n"
      ]
     },
     "metadata": {},
     "output_type": "display_data"
    },
    {
     "data": {
      "text/html": [
       "<pre style=\"white-space:pre;overflow-x:auto;line-height:normal;font-family:Menlo,'DejaVu Sans Mono',consolas,'Courier New',monospace\"><span style=\"color: #800080; text-decoration-color: #800080\">──────────────────────────────────────── </span>Example 17<span style=\"color: #800080; text-decoration-color: #800080\"> ─────────────────────────────────────────</span>\n",
       "</pre>\n"
      ],
      "text/plain": [
       "\u001b[35m──────────────────────────────────────── \u001b[0mExample 17\u001b[35m ─────────────────────────────────────────\u001b[0m\n"
      ]
     },
     "metadata": {},
     "output_type": "display_data"
    },
    {
     "data": {
      "text/html": [
       "<pre style=\"white-space:pre;overflow-x:auto;line-height:normal;font-family:Menlo,'DejaVu Sans Mono',consolas,'Courier New',monospace\">❓ <span style=\"font-weight: bold\">What is a criticism of online pharmacies that issue drugs without a prescription?</span>\n",
       "</pre>\n"
      ],
      "text/plain": [
       "❓ \u001b[1mWhat is a criticism of online pharmacies that issue drugs without a prescription?\u001b[0m\n"
      ]
     },
     "metadata": {},
     "output_type": "display_data"
    },
    {
     "data": {
      "text/html": [
       "<pre style=\"white-space:pre;overflow-x:auto;line-height:normal;font-family:Menlo,'DejaVu Sans Mono',consolas,'Courier New',monospace\">🤖 While most Internet pharmacies sell prescription drugs and require a valid prescription, \n",
       "some Internet pharmacies sell prescription drugs without requiring a prescription. Many \n",
       "customers order drugs from such pharmacies to avoid the \"inconvenience\" of visiting a doctor \n",
       "or to obtain medications which their doctors were unwilling to prescribe. However, this \n",
       "practice has been criticized as <span style=\"background-color: #90ee90\">potentially dangerous</span>, especially by those who feel that only\n",
       "doctors can reliably assess contraindications, risk/benefit ratios, and an individual's \n",
       "overall suitability for use of a medication. There also have been reports of such pharmacies \n",
       "dispensing substandard products.\n",
       "</pre>\n"
      ],
      "text/plain": [
       "🤖 While most Internet pharmacies sell prescription drugs and require a valid prescription, \n",
       "some Internet pharmacies sell prescription drugs without requiring a prescription. Many \n",
       "customers order drugs from such pharmacies to avoid the \"inconvenience\" of visiting a doctor \n",
       "or to obtain medications which their doctors were unwilling to prescribe. However, this \n",
       "practice has been criticized as \u001b[48;2;144;238;144mpotentially dangerous\u001b[0m, especially by those who feel that only\n",
       "doctors can reliably assess contraindications, risk/benefit ratios, and an individual's \n",
       "overall suitability for use of a medication. There also have been reports of such pharmacies \n",
       "dispensing substandard products.\n"
      ]
     },
     "metadata": {},
     "output_type": "display_data"
    },
    {
     "data": {
      "text/html": [
       "<pre style=\"white-space:pre;overflow-x:auto;line-height:normal;font-family:Menlo,'DejaVu Sans Mono',consolas,'Courier New',monospace\">✅ dispensing substandard products\n",
       "</pre>\n"
      ],
      "text/plain": [
       "✅ dispensing substandard products\n"
      ]
     },
     "metadata": {},
     "output_type": "display_data"
    },
    {
     "data": {
      "text/html": [
       "<pre style=\"white-space:pre;overflow-x:auto;line-height:normal;font-family:Menlo,'DejaVu Sans Mono',consolas,'Courier New',monospace\"><span style=\"color: #800080; text-decoration-color: #800080\">──────────────────────────────────────── </span>Example 18<span style=\"color: #800080; text-decoration-color: #800080\"> ─────────────────────────────────────────</span>\n",
       "</pre>\n"
      ],
      "text/plain": [
       "\u001b[35m──────────────────────────────────────── \u001b[0mExample 18\u001b[35m ─────────────────────────────────────────\u001b[0m\n"
      ]
     },
     "metadata": {},
     "output_type": "display_data"
    },
    {
     "data": {
      "text/html": [
       "<pre style=\"white-space:pre;overflow-x:auto;line-height:normal;font-family:Menlo,'DejaVu Sans Mono',consolas,'Courier New',monospace\">❓ <span style=\"font-weight: bold\">What is the lower house of the Victorian parliament called?</span>\n",
       "</pre>\n"
      ],
      "text/plain": [
       "❓ \u001b[1mWhat is the lower house of the Victorian parliament called?\u001b[0m\n"
      ]
     },
     "metadata": {},
     "output_type": "display_data"
    },
    {
     "data": {
      "text/html": [
       "<pre style=\"white-space:pre;overflow-x:auto;line-height:normal;font-family:Menlo,'DejaVu Sans Mono',consolas,'Courier New',monospace\">🤖 Politically, Victoria has 37 seats in the Australian House of Representatives and 12 seats\n",
       "in the Australian Senate. At state level, the Parliament of Victoria consists of the \n",
       "<span style=\"background-color: #90ee90\">Legislative Assembly (the lower house) and the Legislative Council</span> (the upper house). \n",
       "Victoria is currently governed by the Labor Party, with Daniel Andrews the current Premier. \n",
       "The personal representative of the Queen of Australia in the state is the Governor of \n",
       "Victoria, currently Linda Dessau. Local government is concentrated in 79 municipal districts,\n",
       "including 33 cities, although a number of unincorporated areas still exist, which are \n",
       "administered directly by the state.\n",
       "</pre>\n"
      ],
      "text/plain": [
       "🤖 Politically, Victoria has 37 seats in the Australian House of Representatives and 12 seats\n",
       "in the Australian Senate. At state level, the Parliament of Victoria consists of the \n",
       "\u001b[48;2;144;238;144mLegislative Assembly (the lower house) and the Legislative Council\u001b[0m (the upper house). \n",
       "Victoria is currently governed by the Labor Party, with Daniel Andrews the current Premier. \n",
       "The personal representative of the Queen of Australia in the state is the Governor of \n",
       "Victoria, currently Linda Dessau. Local government is concentrated in 79 municipal districts,\n",
       "including 33 cities, although a number of unincorporated areas still exist, which are \n",
       "administered directly by the state.\n"
      ]
     },
     "metadata": {},
     "output_type": "display_data"
    },
    {
     "data": {
      "text/html": [
       "<pre style=\"white-space:pre;overflow-x:auto;line-height:normal;font-family:Menlo,'DejaVu Sans Mono',consolas,'Courier New',monospace\">✅ Legislative Assembly          \n",
       "</pre>\n"
      ],
      "text/plain": [
       "✅ Legislative Assembly          \n"
      ]
     },
     "metadata": {},
     "output_type": "display_data"
    },
    {
     "data": {
      "text/html": [
       "<pre style=\"white-space:pre;overflow-x:auto;line-height:normal;font-family:Menlo,'DejaVu Sans Mono',consolas,'Courier New',monospace\"><span style=\"color: #800080; text-decoration-color: #800080\">──────────────────────────────────────── </span>Example 19<span style=\"color: #800080; text-decoration-color: #800080\"> ─────────────────────────────────────────</span>\n",
       "</pre>\n"
      ],
      "text/plain": [
       "\u001b[35m──────────────────────────────────────── \u001b[0mExample 19\u001b[35m ─────────────────────────────────────────\u001b[0m\n"
      ]
     },
     "metadata": {},
     "output_type": "display_data"
    },
    {
     "data": {
      "text/html": [
       "<pre style=\"white-space:pre;overflow-x:auto;line-height:normal;font-family:Menlo,'DejaVu Sans Mono',consolas,'Courier New',monospace\">❓ <span style=\"font-weight: bold\">Along with toys, where are oscillating cylinder steam engines typically used?</span>\n",
       "</pre>\n"
      ],
      "text/plain": [
       "❓ \u001b[1mAlong with toys, where are oscillating cylinder steam engines typically used?\u001b[0m\n"
      ]
     },
     "metadata": {},
     "output_type": "display_data"
    },
    {
     "data": {
      "text/html": [
       "<pre style=\"white-space:pre;overflow-x:auto;line-height:normal;font-family:Menlo,'DejaVu Sans Mono',consolas,'Courier New',monospace\">🤖 An oscillating cylinder steam engine is a variant of the simple expansion steam engine \n",
       "which does not require valves to direct steam into and out of the cylinder. Instead of \n",
       "valves, the entire cylinder rocks, or oscillates, such that one or more holes in the cylinder\n",
       "line up with holes in a fixed port face or in the pivot mounting (trunnion). These engines \n",
       "are mainly used in toys and <span style=\"background-color: #90ee90\">models</span>, because of their simplicity, but have also been used in \n",
       "full size working engines, mainly on ships where their compactness is valued.[citation \n",
       "needed]\n",
       "</pre>\n"
      ],
      "text/plain": [
       "🤖 An oscillating cylinder steam engine is a variant of the simple expansion steam engine \n",
       "which does not require valves to direct steam into and out of the cylinder. Instead of \n",
       "valves, the entire cylinder rocks, or oscillates, such that one or more holes in the cylinder\n",
       "line up with holes in a fixed port face or in the pivot mounting (trunnion). These engines \n",
       "are mainly used in toys and \u001b[48;2;144;238;144mmodels\u001b[0m, because of their simplicity, but have also been used in \n",
       "full size working engines, mainly on ships where their compactness is valued.[citation \n",
       "needed]\n"
      ]
     },
     "metadata": {},
     "output_type": "display_data"
    },
    {
     "data": {
      "text/html": [
       "<pre style=\"white-space:pre;overflow-x:auto;line-height:normal;font-family:Menlo,'DejaVu Sans Mono',consolas,'Courier New',monospace\">✅ models                        \n",
       "</pre>\n"
      ],
      "text/plain": [
       "✅ models                        \n"
      ]
     },
     "metadata": {},
     "output_type": "display_data"
    },
    {
     "data": {
      "text/html": [
       "<pre style=\"white-space:pre;overflow-x:auto;line-height:normal;font-family:Menlo,'DejaVu Sans Mono',consolas,'Courier New',monospace\"><span style=\"color: #800080; text-decoration-color: #800080\">──────────────────────────────────────── </span>Example 20<span style=\"color: #800080; text-decoration-color: #800080\"> ─────────────────────────────────────────</span>\n",
       "</pre>\n"
      ],
      "text/plain": [
       "\u001b[35m──────────────────────────────────────── \u001b[0mExample 20\u001b[35m ─────────────────────────────────────────\u001b[0m\n"
      ]
     },
     "metadata": {},
     "output_type": "display_data"
    },
    {
     "data": {
      "text/html": [
       "<pre style=\"white-space:pre;overflow-x:auto;line-height:normal;font-family:Menlo,'DejaVu Sans Mono',consolas,'Courier New',monospace\">❓ <span style=\"font-weight: bold\">Who was it essential to Islam to imitate?</span>\n",
       "</pre>\n"
      ],
      "text/plain": [
       "❓ \u001b[1mWho was it essential to Islam to imitate?\u001b[0m\n"
      ]
     },
     "metadata": {},
     "output_type": "display_data"
    },
    {
     "data": {
      "text/html": [
       "<pre style=\"white-space:pre;overflow-x:auto;line-height:normal;font-family:Menlo,'DejaVu Sans Mono',consolas,'Courier New',monospace\">🤖 The views of Ali Shariati, ideologue of the Iranian Revolution, had resemblance with \n",
       "Mohammad Iqbal, ideological father of the State of Pakistan, but Khomeini's beliefs is \n",
       "perceived to be placed somewhere between beliefs of Sunni Islamic thinkers like Mawdudi and \n",
       "Qutb. He believed that complete imitation of the Prophet Mohammad and his successors such as \n",
       "Ali for restoration of Sharia law was essential to Islam, that many secular, Westernizing \n",
       "Muslims were actually agents of the West serving Western interests, and that the acts such as\n",
       "\"plundering\" of Muslim lands was part of a long-term conspiracy against Islam by the Western \n",
       "governments.\n",
       "</pre>\n"
      ],
      "text/plain": [
       "🤖 The views of Ali Shariati, ideologue of the Iranian Revolution, had resemblance with \n",
       "Mohammad Iqbal, ideological father of the State of Pakistan, but Khomeini's beliefs is \n",
       "perceived to be placed somewhere between beliefs of Sunni Islamic thinkers like Mawdudi and \n",
       "Qutb. He believed that complete imitation of the Prophet Mohammad and his successors such as \n",
       "Ali for restoration of Sharia law was essential to Islam, that many secular, Westernizing \n",
       "Muslims were actually agents of the West serving Western interests, and that the acts such as\n",
       "\"plundering\" of Muslim lands was part of a long-term conspiracy against Islam by the Western \n",
       "governments.\n"
      ]
     },
     "metadata": {},
     "output_type": "display_data"
    },
    {
     "data": {
      "text/html": [
       "<pre style=\"white-space:pre;overflow-x:auto;line-height:normal;font-family:Menlo,'DejaVu Sans Mono',consolas,'Courier New',monospace\">✅ the Prophet Mohammad          \n",
       "</pre>\n"
      ],
      "text/plain": [
       "✅ the Prophet Mohammad          \n"
      ]
     },
     "metadata": {},
     "output_type": "display_data"
    },
    {
     "data": {
      "text/html": [
       "<pre style=\"white-space:pre;overflow-x:auto;line-height:normal;font-family:Menlo,'DejaVu Sans Mono',consolas,'Courier New',monospace\"><span style=\"color: #800080; text-decoration-color: #800080\">──────────────────────────────────────── </span>Example 21<span style=\"color: #800080; text-decoration-color: #800080\"> ─────────────────────────────────────────</span>\n",
       "</pre>\n"
      ],
      "text/plain": [
       "\u001b[35m──────────────────────────────────────── \u001b[0mExample 21\u001b[35m ─────────────────────────────────────────\u001b[0m\n"
      ]
     },
     "metadata": {},
     "output_type": "display_data"
    },
    {
     "data": {
      "text/html": [
       "<pre style=\"white-space:pre;overflow-x:auto;line-height:normal;font-family:Menlo,'DejaVu Sans Mono',consolas,'Courier New',monospace\">❓ <span style=\"font-weight: bold\">Why did Confucians like the medical field?</span>\n",
       "</pre>\n"
      ],
      "text/plain": [
       "❓ \u001b[1mWhy did Confucians like the medical field?\u001b[0m\n"
      ]
     },
     "metadata": {},
     "output_type": "display_data"
    },
    {
     "data": {
      "text/html": [
       "<pre style=\"white-space:pre;overflow-x:auto;line-height:normal;font-family:Menlo,'DejaVu Sans Mono',consolas,'Courier New',monospace\">🤖 The physicians of the Yuan court came from diverse cultures. Healers were divided into \n",
       "non-Mongol physicians called otachi and traditional Mongol shamans. The Mongols characterized\n",
       "otachi doctors by their use of herbal remedies, which was distinguished from the spiritual \n",
       "cures of Mongol shamanism. Physicians received official support from the Yuan government and \n",
       "were given special legal privileges. Kublai created the Imperial Academy of Medicine to \n",
       "manage medical treatises and the education of new doctors. Confucian scholars were attracted \n",
       "to the medical profession because <span style=\"background-color: #90ee90\">it ensured a high income</span> and medical ethics were compatible\n",
       "with Confucian virtues.\n",
       "</pre>\n"
      ],
      "text/plain": [
       "🤖 The physicians of the Yuan court came from diverse cultures. Healers were divided into \n",
       "non-Mongol physicians called otachi and traditional Mongol shamans. The Mongols characterized\n",
       "otachi doctors by their use of herbal remedies, which was distinguished from the spiritual \n",
       "cures of Mongol shamanism. Physicians received official support from the Yuan government and \n",
       "were given special legal privileges. Kublai created the Imperial Academy of Medicine to \n",
       "manage medical treatises and the education of new doctors. Confucian scholars were attracted \n",
       "to the medical profession because \u001b[48;2;144;238;144mit ensured a high income\u001b[0m and medical ethics were compatible\n",
       "with Confucian virtues.\n"
      ]
     },
     "metadata": {},
     "output_type": "display_data"
    },
    {
     "data": {
      "text/html": [
       "<pre style=\"white-space:pre;overflow-x:auto;line-height:normal;font-family:Menlo,'DejaVu Sans Mono',consolas,'Courier New',monospace\">✅ it ensured a high income and medical ethics were compatible with Confucian virtues\n",
       "</pre>\n"
      ],
      "text/plain": [
       "✅ it ensured a high income and medical ethics were compatible with Confucian virtues\n"
      ]
     },
     "metadata": {},
     "output_type": "display_data"
    },
    {
     "data": {
      "text/html": [
       "<pre style=\"white-space:pre;overflow-x:auto;line-height:normal;font-family:Menlo,'DejaVu Sans Mono',consolas,'Courier New',monospace\"><span style=\"color: #800080; text-decoration-color: #800080\">──────────────────────────────────────── </span>Example 22<span style=\"color: #800080; text-decoration-color: #800080\"> ─────────────────────────────────────────</span>\n",
       "</pre>\n"
      ],
      "text/plain": [
       "\u001b[35m──────────────────────────────────────── \u001b[0mExample 22\u001b[35m ─────────────────────────────────────────\u001b[0m\n"
      ]
     },
     "metadata": {},
     "output_type": "display_data"
    },
    {
     "data": {
      "text/html": [
       "<pre style=\"white-space:pre;overflow-x:auto;line-height:normal;font-family:Menlo,'DejaVu Sans Mono',consolas,'Courier New',monospace\">❓ <span style=\"font-weight: bold\">Why is breathing oxygen in space craft not dangerous to health?</span>\n",
       "</pre>\n"
      ],
      "text/plain": [
       "❓ \u001b[1mWhy is breathing oxygen in space craft not dangerous to health?\u001b[0m\n"
      ]
     },
     "metadata": {},
     "output_type": "display_data"
    },
    {
     "data": {
      "text/html": [
       "<pre style=\"white-space:pre;overflow-x:auto;line-height:normal;font-family:Menlo,'DejaVu Sans Mono',consolas,'Courier New',monospace\">🤖 Breathing pure O\n",
       "2 in space applications, such as in some modern space suits, or in early spacecraft such as \n",
       "Apollo, causes no damage due to the <span style=\"background-color: #90ee90\">low total pressures used</span>. In the case of spacesuits, the \n",
       "O\n",
       "2 partial pressure in the breathing gas is, in general, about 30 kPa (1.4 times normal), and \n",
       "the resulting O\n",
       "2 partial pressure in the astronaut's arterial blood is only marginally more than normal \n",
       "sea-level O\n",
       "2 partial pressure (for more information on this, see space suit and arterial blood gas).\n",
       "</pre>\n"
      ],
      "text/plain": [
       "🤖 Breathing pure O\n",
       "2 in space applications, such as in some modern space suits, or in early spacecraft such as \n",
       "Apollo, causes no damage due to the \u001b[48;2;144;238;144mlow total pressures used\u001b[0m. In the case of spacesuits, the \n",
       "O\n",
       "2 partial pressure in the breathing gas is, in general, about 30 kPa (1.4 times normal), and \n",
       "the resulting O\n",
       "2 partial pressure in the astronaut's arterial blood is only marginally more than normal \n",
       "sea-level O\n",
       "2 partial pressure (for more information on this, see space suit and arterial blood gas).\n"
      ]
     },
     "metadata": {},
     "output_type": "display_data"
    },
    {
     "data": {
      "text/html": [
       "<pre style=\"white-space:pre;overflow-x:auto;line-height:normal;font-family:Menlo,'DejaVu Sans Mono',consolas,'Courier New',monospace\">✅ low total pressures           \n",
       "</pre>\n"
      ],
      "text/plain": [
       "✅ low total pressures           \n"
      ]
     },
     "metadata": {},
     "output_type": "display_data"
    },
    {
     "data": {
      "text/html": [
       "<pre style=\"white-space:pre;overflow-x:auto;line-height:normal;font-family:Menlo,'DejaVu Sans Mono',consolas,'Courier New',monospace\"><span style=\"color: #800080; text-decoration-color: #800080\">──────────────────────────────────────── </span>Example 23<span style=\"color: #800080; text-decoration-color: #800080\"> ─────────────────────────────────────────</span>\n",
       "</pre>\n"
      ],
      "text/plain": [
       "\u001b[35m──────────────────────────────────────── \u001b[0mExample 23\u001b[35m ─────────────────────────────────────────\u001b[0m\n"
      ]
     },
     "metadata": {},
     "output_type": "display_data"
    },
    {
     "data": {
      "text/html": [
       "<pre style=\"white-space:pre;overflow-x:auto;line-height:normal;font-family:Menlo,'DejaVu Sans Mono',consolas,'Courier New',monospace\">❓ <span style=\"font-weight: bold\">How many naval bases are located in Jacksonville?</span>\n",
       "</pre>\n"
      ],
      "text/plain": [
       "❓ \u001b[1mHow many naval bases are located in Jacksonville?\u001b[0m\n"
      ]
     },
     "metadata": {},
     "output_type": "display_data"
    },
    {
     "data": {
      "text/html": [
       "<pre style=\"white-space:pre;overflow-x:auto;line-height:normal;font-family:Menlo,'DejaVu Sans Mono',consolas,'Courier New',monospace\">🤖 Harbor improvements since the late 19th century have made Jacksonville a major military \n",
       "and civilian deep-water port. Its riverine location facilitates <span style=\"background-color: #90ee90\">two</span> United States Navy bases \n",
       "and the Port of Jacksonville, Florida's third largest seaport. The two US Navy bases, Blount \n",
       "Island Command and the nearby Naval Submarine Base Kings Bay form the third largest military \n",
       "presence in the United States. Significant factors in the local economy include services such\n",
       "as banking, insurance, healthcare and logistics. As with much of Florida, tourism is also \n",
       "important to the Jacksonville area, particularly tourism related to golf. People from \n",
       "Jacksonville may be called \"Jacksonvillians\" or \"Jaxsons\" (also spelled \"Jaxons\").\n",
       "</pre>\n"
      ],
      "text/plain": [
       "🤖 Harbor improvements since the late 19th century have made Jacksonville a major military \n",
       "and civilian deep-water port. Its riverine location facilitates \u001b[48;2;144;238;144mtwo\u001b[0m United States Navy bases \n",
       "and the Port of Jacksonville, Florida's third largest seaport. The two US Navy bases, Blount \n",
       "Island Command and the nearby Naval Submarine Base Kings Bay form the third largest military \n",
       "presence in the United States. Significant factors in the local economy include services such\n",
       "as banking, insurance, healthcare and logistics. As with much of Florida, tourism is also \n",
       "important to the Jacksonville area, particularly tourism related to golf. People from \n",
       "Jacksonville may be called \"Jacksonvillians\" or \"Jaxsons\" (also spelled \"Jaxons\").\n"
      ]
     },
     "metadata": {},
     "output_type": "display_data"
    },
    {
     "data": {
      "text/html": [
       "<pre style=\"white-space:pre;overflow-x:auto;line-height:normal;font-family:Menlo,'DejaVu Sans Mono',consolas,'Courier New',monospace\">✅ two                           \n",
       "</pre>\n"
      ],
      "text/plain": [
       "✅ two                           \n"
      ]
     },
     "metadata": {},
     "output_type": "display_data"
    },
    {
     "data": {
      "text/html": [
       "<pre style=\"white-space:pre;overflow-x:auto;line-height:normal;font-family:Menlo,'DejaVu Sans Mono',consolas,'Courier New',monospace\"><span style=\"color: #800080; text-decoration-color: #800080\">──────────────────────────────────────── </span>Example 24<span style=\"color: #800080; text-decoration-color: #800080\"> ─────────────────────────────────────────</span>\n",
       "</pre>\n"
      ],
      "text/plain": [
       "\u001b[35m──────────────────────────────────────── \u001b[0mExample 24\u001b[35m ─────────────────────────────────────────\u001b[0m\n"
      ]
     },
     "metadata": {},
     "output_type": "display_data"
    },
    {
     "data": {
      "text/html": [
       "<pre style=\"white-space:pre;overflow-x:auto;line-height:normal;font-family:Menlo,'DejaVu Sans Mono',consolas,'Courier New',monospace\">❓ <span style=\"font-weight: bold\">Which two courts apply European Union law?</span>\n",
       "</pre>\n"
      ],
      "text/plain": [
       "❓ \u001b[1mWhich two courts apply European Union law?\u001b[0m\n"
      ]
     },
     "metadata": {},
     "output_type": "display_data"
    },
    {
     "data": {
      "text/html": [
       "<pre style=\"white-space:pre;overflow-x:auto;line-height:normal;font-family:Menlo,'DejaVu Sans Mono',consolas,'Courier New',monospace\">🤖 European Union law is applied by the <span style=\"background-color: #90ee90\">courts of member states and the Court of Justice of </span>\n",
       "<span style=\"background-color: #90ee90\">the European Union</span>. Where the laws of member states provide for lesser rights European Union \n",
       "law can be enforced by the courts of member states. In case of European Union law which \n",
       "should have been transposed into the laws of member states, such as Directives, the European \n",
       "Commission can take proceedings against the member state under the Treaty on the Functioning \n",
       "of the European Union. The European Court of Justice is the highest court able to interpret \n",
       "European Union law. Supplementary sources of European Union law include case law by the Court\n",
       "of Justice, international law and general principles of European Union law.\n",
       "</pre>\n"
      ],
      "text/plain": [
       "🤖 European Union law is applied by the \u001b[48;2;144;238;144mcourts of member states and the Court of Justice of \u001b[0m\n",
       "\u001b[48;2;144;238;144mthe European Union\u001b[0m. Where the laws of member states provide for lesser rights European Union \n",
       "law can be enforced by the courts of member states. In case of European Union law which \n",
       "should have been transposed into the laws of member states, such as Directives, the European \n",
       "Commission can take proceedings against the member state under the Treaty on the Functioning \n",
       "of the European Union. The European Court of Justice is the highest court able to interpret \n",
       "European Union law. Supplementary sources of European Union law include case law by the Court\n",
       "of Justice, international law and general principles of European Union law.\n"
      ]
     },
     "metadata": {},
     "output_type": "display_data"
    },
    {
     "data": {
      "text/html": [
       "<pre style=\"white-space:pre;overflow-x:auto;line-height:normal;font-family:Menlo,'DejaVu Sans Mono',consolas,'Courier New',monospace\">✅ courts of member states and the Court of Justice of the European Union\n",
       "</pre>\n"
      ],
      "text/plain": [
       "✅ courts of member states and the Court of Justice of the European Union\n"
      ]
     },
     "metadata": {},
     "output_type": "display_data"
    },
    {
     "data": {
      "text/html": [
       "<pre style=\"white-space:pre;overflow-x:auto;line-height:normal;font-family:Menlo,'DejaVu Sans Mono',consolas,'Courier New',monospace\"><span style=\"color: #800080; text-decoration-color: #800080\">──────────────────────────────────────── </span>Example 25<span style=\"color: #800080; text-decoration-color: #800080\"> ─────────────────────────────────────────</span>\n",
       "</pre>\n"
      ],
      "text/plain": [
       "\u001b[35m──────────────────────────────────────── \u001b[0mExample 25\u001b[35m ─────────────────────────────────────────\u001b[0m\n"
      ]
     },
     "metadata": {},
     "output_type": "display_data"
    },
    {
     "data": {
      "text/html": [
       "<pre style=\"white-space:pre;overflow-x:auto;line-height:normal;font-family:Menlo,'DejaVu Sans Mono',consolas,'Courier New',monospace\">❓ <span style=\"font-weight: bold\">What did the use of steam engines in farming lead to?</span>\n",
       "</pre>\n"
      ],
      "text/plain": [
       "❓ \u001b[1mWhat did the use of steam engines in farming lead to?\u001b[0m\n"
      ]
     },
     "metadata": {},
     "output_type": "display_data"
    },
    {
     "data": {
      "text/html": [
       "<pre style=\"white-space:pre;overflow-x:auto;line-height:normal;font-family:Menlo,'DejaVu Sans Mono',consolas,'Courier New',monospace\">🤖 Steam engines can be said to have been the moving force behind the Industrial Revolution \n",
       "and saw widespread commercial use driving machinery in factories, mills and mines; powering \n",
       "pumping stations; and propelling transport appliances such as railway locomotives, ships, \n",
       "steamboats and road vehicles. Their use in agriculture led to an <span style=\"background-color: #90ee90\">increase in the land </span>\n",
       "<span style=\"background-color: #90ee90\">available for cultivation</span>. There have at one time or another been steam-powered farm \n",
       "tractors, motorcycles (without much success) and even automobiles as the Stanley Steamer.\n",
       "</pre>\n"
      ],
      "text/plain": [
       "🤖 Steam engines can be said to have been the moving force behind the Industrial Revolution \n",
       "and saw widespread commercial use driving machinery in factories, mills and mines; powering \n",
       "pumping stations; and propelling transport appliances such as railway locomotives, ships, \n",
       "steamboats and road vehicles. Their use in agriculture led to an \u001b[48;2;144;238;144mincrease in the land \u001b[0m\n",
       "\u001b[48;2;144;238;144mavailable for cultivation\u001b[0m. There have at one time or another been steam-powered farm \n",
       "tractors, motorcycles (without much success) and even automobiles as the Stanley Steamer.\n"
      ]
     },
     "metadata": {},
     "output_type": "display_data"
    },
    {
     "data": {
      "text/html": [
       "<pre style=\"white-space:pre;overflow-x:auto;line-height:normal;font-family:Menlo,'DejaVu Sans Mono',consolas,'Courier New',monospace\">✅ increase in the land available for cultivation\n",
       "</pre>\n"
      ],
      "text/plain": [
       "✅ increase in the land available for cultivation\n"
      ]
     },
     "metadata": {},
     "output_type": "display_data"
    },
    {
     "data": {
      "text/html": [
       "<pre style=\"white-space:pre;overflow-x:auto;line-height:normal;font-family:Menlo,'DejaVu Sans Mono',consolas,'Courier New',monospace\"><span style=\"color: #800080; text-decoration-color: #800080\">──────────────────────────────────────── </span>Example 26<span style=\"color: #800080; text-decoration-color: #800080\"> ─────────────────────────────────────────</span>\n",
       "</pre>\n"
      ],
      "text/plain": [
       "\u001b[35m──────────────────────────────────────── \u001b[0mExample 26\u001b[35m ─────────────────────────────────────────\u001b[0m\n"
      ]
     },
     "metadata": {},
     "output_type": "display_data"
    },
    {
     "data": {
      "text/html": [
       "<pre style=\"white-space:pre;overflow-x:auto;line-height:normal;font-family:Menlo,'DejaVu Sans Mono',consolas,'Courier New',monospace\">❓ <span style=\"font-weight: bold\">What do a great majority of rocks sampled from the moon show?</span>\n",
       "</pre>\n"
      ],
      "text/plain": [
       "❓ \u001b[1mWhat do a great majority of rocks sampled from the moon show?\u001b[0m\n"
      ]
     },
     "metadata": {},
     "output_type": "display_data"
    },
    {
     "data": {
      "text/html": [
       "<pre style=\"white-space:pre;overflow-x:auto;line-height:normal;font-family:Menlo,'DejaVu Sans Mono',consolas,'Courier New',monospace\">🤖 Almost all the rocks show evidence of <span style=\"background-color: #90ee90\">impact process effects</span>. Many samples appear to be \n",
       "pitted with micrometeoroid impact craters, which is never seen on Earth rocks, due to the \n",
       "thick atmosphere. Many show signs of being subjected to high pressure shock waves that are \n",
       "generated during impact events. Some of the returned samples are of impact melt (materials \n",
       "melted near an impact crater.) All samples returned from the Moon are highly brecciated as a \n",
       "result of being subjected to multiple impact events.\n",
       "</pre>\n"
      ],
      "text/plain": [
       "🤖 Almost all the rocks show evidence of \u001b[48;2;144;238;144mimpact process effects\u001b[0m. Many samples appear to be \n",
       "pitted with micrometeoroid impact craters, which is never seen on Earth rocks, due to the \n",
       "thick atmosphere. Many show signs of being subjected to high pressure shock waves that are \n",
       "generated during impact events. Some of the returned samples are of impact melt (materials \n",
       "melted near an impact crater.) All samples returned from the Moon are highly brecciated as a \n",
       "result of being subjected to multiple impact events.\n"
      ]
     },
     "metadata": {},
     "output_type": "display_data"
    },
    {
     "data": {
      "text/html": [
       "<pre style=\"white-space:pre;overflow-x:auto;line-height:normal;font-family:Menlo,'DejaVu Sans Mono',consolas,'Courier New',monospace\">✅ impact process effects        \n",
       "</pre>\n"
      ],
      "text/plain": [
       "✅ impact process effects        \n"
      ]
     },
     "metadata": {},
     "output_type": "display_data"
    },
    {
     "data": {
      "text/html": [
       "<pre style=\"white-space:pre;overflow-x:auto;line-height:normal;font-family:Menlo,'DejaVu Sans Mono',consolas,'Courier New',monospace\"><span style=\"color: #800080; text-decoration-color: #800080\">──────────────────────────────────────── </span>Example 27<span style=\"color: #800080; text-decoration-color: #800080\"> ─────────────────────────────────────────</span>\n",
       "</pre>\n"
      ],
      "text/plain": [
       "\u001b[35m──────────────────────────────────────── \u001b[0mExample 27\u001b[35m ─────────────────────────────────────────\u001b[0m\n"
      ]
     },
     "metadata": {},
     "output_type": "display_data"
    },
    {
     "data": {
      "text/html": [
       "<pre style=\"white-space:pre;overflow-x:auto;line-height:normal;font-family:Menlo,'DejaVu Sans Mono',consolas,'Courier New',monospace\">❓ <span style=\"font-weight: bold\">What university donated the land for the Manned Spacecraft Center?</span>\n",
       "</pre>\n"
      ],
      "text/plain": [
       "❓ \u001b[1mWhat university donated the land for the Manned Spacecraft Center?\u001b[0m\n"
      ]
     },
     "metadata": {},
     "output_type": "display_data"
    },
    {
     "data": {
      "text/html": [
       "<pre style=\"white-space:pre;overflow-x:auto;line-height:normal;font-family:Menlo,'DejaVu Sans Mono',consolas,'Courier New',monospace\">🤖 It became clear that managing the Apollo program would exceed the capabilities of Robert \n",
       "R. Gilruth's Space Task Group, which had been directing the nation's manned space program \n",
       "from NASA's Langley Research Center. So Gilruth was given authority to grow his organization \n",
       "into a new NASA center, the Manned Spacecraft Center (MSC). A site was chosen in Houston, \n",
       "Texas, on land donated by <span style=\"background-color: #90ee90\">Rice University</span>, and Administrator Webb announced the conversion on\n",
       "September 19, 1961. It was also clear NASA would soon outgrow its practice of controlling \n",
       "missions from its Cape Canaveral Air Force Station launch facilities in Florida, so a new \n",
       "Mission Control Center would be included in the MSC.\n",
       "</pre>\n"
      ],
      "text/plain": [
       "🤖 It became clear that managing the Apollo program would exceed the capabilities of Robert \n",
       "R. Gilruth's Space Task Group, which had been directing the nation's manned space program \n",
       "from NASA's Langley Research Center. So Gilruth was given authority to grow his organization \n",
       "into a new NASA center, the Manned Spacecraft Center (MSC). A site was chosen in Houston, \n",
       "Texas, on land donated by \u001b[48;2;144;238;144mRice University\u001b[0m, and Administrator Webb announced the conversion on\n",
       "September 19, 1961. It was also clear NASA would soon outgrow its practice of controlling \n",
       "missions from its Cape Canaveral Air Force Station launch facilities in Florida, so a new \n",
       "Mission Control Center would be included in the MSC.\n"
      ]
     },
     "metadata": {},
     "output_type": "display_data"
    },
    {
     "data": {
      "text/html": [
       "<pre style=\"white-space:pre;overflow-x:auto;line-height:normal;font-family:Menlo,'DejaVu Sans Mono',consolas,'Courier New',monospace\">✅ Rice University               \n",
       "</pre>\n"
      ],
      "text/plain": [
       "✅ Rice University               \n"
      ]
     },
     "metadata": {},
     "output_type": "display_data"
    },
    {
     "data": {
      "text/html": [
       "<pre style=\"white-space:pre;overflow-x:auto;line-height:normal;font-family:Menlo,'DejaVu Sans Mono',consolas,'Courier New',monospace\"><span style=\"color: #800080; text-decoration-color: #800080\">──────────────────────────────────────── </span>Example 28<span style=\"color: #800080; text-decoration-color: #800080\"> ─────────────────────────────────────────</span>\n",
       "</pre>\n"
      ],
      "text/plain": [
       "\u001b[35m──────────────────────────────────────── \u001b[0mExample 28\u001b[35m ─────────────────────────────────────────\u001b[0m\n"
      ]
     },
     "metadata": {},
     "output_type": "display_data"
    },
    {
     "data": {
      "text/html": [
       "<pre style=\"white-space:pre;overflow-x:auto;line-height:normal;font-family:Menlo,'DejaVu Sans Mono',consolas,'Courier New',monospace\">❓ <span style=\"font-weight: bold\">How many individual libraries make up the main school library?</span>\n",
       "</pre>\n"
      ],
      "text/plain": [
       "❓ \u001b[1mHow many individual libraries make up the main school library?\u001b[0m\n"
      ]
     },
     "metadata": {},
     "output_type": "display_data"
    },
    {
     "data": {
      "text/html": [
       "<pre style=\"white-space:pre;overflow-x:auto;line-height:normal;font-family:Menlo,'DejaVu Sans Mono',consolas,'Courier New',monospace\">🤖 Harvard is a large, highly residential research university. The nominal cost of attendance\n",
       "is high, but the University's large endowment allows it to offer generous financial aid \n",
       "packages. It operates several arts, cultural, and scientific museums, alongside the Harvard \n",
       "Library, which is the world's largest academic and private library system, comprising <span style=\"background-color: #90ee90\">79</span> \n",
       "individual libraries with over 18 million volumes. Harvard's alumni include eight U.S. \n",
       "presidents, several foreign heads of state, 62 living billionaires, 335 Rhodes Scholars, and \n",
       "242 Marshall Scholars. To date, some 150 Nobel laureates, 18 Fields Medalists and 13 Turing \n",
       "Award winners have been affiliated as students, faculty, or staff.\n",
       "</pre>\n"
      ],
      "text/plain": [
       "🤖 Harvard is a large, highly residential research university. The nominal cost of attendance\n",
       "is high, but the University's large endowment allows it to offer generous financial aid \n",
       "packages. It operates several arts, cultural, and scientific museums, alongside the Harvard \n",
       "Library, which is the world's largest academic and private library system, comprising \u001b[48;2;144;238;144m79\u001b[0m \n",
       "individual libraries with over 18 million volumes. Harvard's alumni include eight U.S. \n",
       "presidents, several foreign heads of state, 62 living billionaires, 335 Rhodes Scholars, and \n",
       "242 Marshall Scholars. To date, some 150 Nobel laureates, 18 Fields Medalists and 13 Turing \n",
       "Award winners have been affiliated as students, faculty, or staff.\n"
      ]
     },
     "metadata": {},
     "output_type": "display_data"
    },
    {
     "data": {
      "text/html": [
       "<pre style=\"white-space:pre;overflow-x:auto;line-height:normal;font-family:Menlo,'DejaVu Sans Mono',consolas,'Courier New',monospace\">✅ 79 individual libraries       \n",
       "</pre>\n"
      ],
      "text/plain": [
       "✅ 79 individual libraries       \n"
      ]
     },
     "metadata": {},
     "output_type": "display_data"
    },
    {
     "data": {
      "text/html": [
       "<pre style=\"white-space:pre;overflow-x:auto;line-height:normal;font-family:Menlo,'DejaVu Sans Mono',consolas,'Courier New',monospace\"><span style=\"color: #800080; text-decoration-color: #800080\">──────────────────────────────────────── </span>Example 29<span style=\"color: #800080; text-decoration-color: #800080\"> ─────────────────────────────────────────</span>\n",
       "</pre>\n"
      ],
      "text/plain": [
       "\u001b[35m──────────────────────────────────────── \u001b[0mExample 29\u001b[35m ─────────────────────────────────────────\u001b[0m\n"
      ]
     },
     "metadata": {},
     "output_type": "display_data"
    },
    {
     "data": {
      "text/html": [
       "<pre style=\"white-space:pre;overflow-x:auto;line-height:normal;font-family:Menlo,'DejaVu Sans Mono',consolas,'Courier New',monospace\">❓ <span style=\"font-weight: bold\">What type of outlook do some of the Muslims in London have?</span>\n",
       "</pre>\n"
      ],
      "text/plain": [
       "❓ \u001b[1mWhat type of outlook do some of the Muslims in London have?\u001b[0m\n"
      ]
     },
     "metadata": {},
     "output_type": "display_data"
    },
    {
     "data": {
      "text/html": [
       "<pre style=\"white-space:pre;overflow-x:auto;line-height:normal;font-family:Menlo,'DejaVu Sans Mono',consolas,'Courier New',monospace\">🤖 Greater London has over 900,000 Muslims, (most of South Asian origins and concentrated in \n",
       "the East London boroughs of Newham, Tower Hamlets and Waltham Forest), and among them are \n",
       "some with a strong <span style=\"background-color: #90ee90\">Islamist</span> outlook. Their presence, combined with a perceived British policy\n",
       "of allowing them free rein, heightened by exposés such as the 2007 Channel 4 documentary \n",
       "programme Undercover Mosque, has given rise to the term Londonistan. Following the 9/11 \n",
       "attacks, however, Abu Hamza al-Masri, the imam of the Finsbury Park Mosque, was arrested and \n",
       "charged with incitement to terrorism which has caused many Islamists to leave the UK to avoid\n",
       "internment.[citation needed]\n",
       "</pre>\n"
      ],
      "text/plain": [
       "🤖 Greater London has over 900,000 Muslims, (most of South Asian origins and concentrated in \n",
       "the East London boroughs of Newham, Tower Hamlets and Waltham Forest), and among them are \n",
       "some with a strong \u001b[48;2;144;238;144mIslamist\u001b[0m outlook. Their presence, combined with a perceived British policy\n",
       "of allowing them free rein, heightened by exposés such as the 2007 Channel 4 documentary \n",
       "programme Undercover Mosque, has given rise to the term Londonistan. Following the 9/11 \n",
       "attacks, however, Abu Hamza al-Masri, the imam of the Finsbury Park Mosque, was arrested and \n",
       "charged with incitement to terrorism which has caused many Islamists to leave the UK to avoid\n",
       "internment.[citation needed]\n"
      ]
     },
     "metadata": {},
     "output_type": "display_data"
    },
    {
     "data": {
      "text/html": [
       "<pre style=\"white-space:pre;overflow-x:auto;line-height:normal;font-family:Menlo,'DejaVu Sans Mono',consolas,'Courier New',monospace\">✅ strong Islamist               \n",
       "</pre>\n"
      ],
      "text/plain": [
       "✅ strong Islamist               \n"
      ]
     },
     "metadata": {},
     "output_type": "display_data"
    },
    {
     "data": {
      "text/html": [
       "<pre style=\"white-space:pre;overflow-x:auto;line-height:normal;font-family:Menlo,'DejaVu Sans Mono',consolas,'Courier New',monospace\"><span style=\"color: #800080; text-decoration-color: #800080\">──────────────────────────────────────── </span>Example 30<span style=\"color: #800080; text-decoration-color: #800080\"> ─────────────────────────────────────────</span>\n",
       "</pre>\n"
      ],
      "text/plain": [
       "\u001b[35m──────────────────────────────────────── \u001b[0mExample 30\u001b[35m ─────────────────────────────────────────\u001b[0m\n"
      ]
     },
     "metadata": {},
     "output_type": "display_data"
    },
    {
     "data": {
      "text/html": [
       "<pre style=\"white-space:pre;overflow-x:auto;line-height:normal;font-family:Menlo,'DejaVu Sans Mono',consolas,'Courier New',monospace\">❓ <span style=\"font-weight: bold\">When were the French wars of religion?</span>\n",
       "</pre>\n"
      ],
      "text/plain": [
       "❓ \u001b[1mWhen were the French wars of religion?\u001b[0m\n"
      ]
     },
     "metadata": {},
     "output_type": "display_data"
    },
    {
     "data": {
      "text/html": [
       "<pre style=\"white-space:pre;overflow-x:auto;line-height:normal;font-family:Menlo,'DejaVu Sans Mono',consolas,'Courier New',monospace\">🤖 The French Wars of Religion in the <span style=\"background-color: #90ee90\">16th century</span> and French Revolution in the 18th \n",
       "successively destroyed much of what existed in the way of the architectural and artistic \n",
       "remnant of this Norman creativity. The former, with their violence, caused the wanton \n",
       "destruction of many Norman edifices; the latter, with its assault on religion, caused the \n",
       "purposeful destruction of religious objects of any type, and its destabilisation of society \n",
       "resulted in rampant pillaging.\n",
       "</pre>\n"
      ],
      "text/plain": [
       "🤖 The French Wars of Religion in the \u001b[48;2;144;238;144m16th century\u001b[0m and French Revolution in the 18th \n",
       "successively destroyed much of what existed in the way of the architectural and artistic \n",
       "remnant of this Norman creativity. The former, with their violence, caused the wanton \n",
       "destruction of many Norman edifices; the latter, with its assault on religion, caused the \n",
       "purposeful destruction of religious objects of any type, and its destabilisation of society \n",
       "resulted in rampant pillaging.\n"
      ]
     },
     "metadata": {},
     "output_type": "display_data"
    },
    {
     "data": {
      "text/html": [
       "<pre style=\"white-space:pre;overflow-x:auto;line-height:normal;font-family:Menlo,'DejaVu Sans Mono',consolas,'Courier New',monospace\">✅ 16th century                  \n",
       "</pre>\n"
      ],
      "text/plain": [
       "✅ 16th century                  \n"
      ]
     },
     "metadata": {},
     "output_type": "display_data"
    },
    {
     "data": {
      "text/html": [
       "<pre style=\"white-space:pre;overflow-x:auto;line-height:normal;font-family:Menlo,'DejaVu Sans Mono',consolas,'Courier New',monospace\"><span style=\"color: #800080; text-decoration-color: #800080\">──────────────────────────────────────── </span>Example 31<span style=\"color: #800080; text-decoration-color: #800080\"> ─────────────────────────────────────────</span>\n",
       "</pre>\n"
      ],
      "text/plain": [
       "\u001b[35m──────────────────────────────────────── \u001b[0mExample 31\u001b[35m ─────────────────────────────────────────\u001b[0m\n"
      ]
     },
     "metadata": {},
     "output_type": "display_data"
    },
    {
     "data": {
      "text/html": [
       "<pre style=\"white-space:pre;overflow-x:auto;line-height:normal;font-family:Menlo,'DejaVu Sans Mono',consolas,'Courier New',monospace\">❓ <span style=\"font-weight: bold\">In the layered model of the Earth there are seismic discontinuities in which layer? </span>\n",
       "</pre>\n"
      ],
      "text/plain": [
       "❓ \u001b[1mIn the layered model of the Earth there are seismic discontinuities in which layer? \u001b[0m\n"
      ]
     },
     "metadata": {},
     "output_type": "display_data"
    },
    {
     "data": {
      "text/html": [
       "<pre style=\"white-space:pre;overflow-x:auto;line-height:normal;font-family:Menlo,'DejaVu Sans Mono',consolas,'Courier New',monospace\">🤖 Seismologists can use the arrival times of seismic waves in reverse to image the interior \n",
       "of the Earth. Early advances in this field showed the existence of a liquid outer core (where\n",
       "shear waves were not able to propagate) and a dense solid inner core. These advances led to \n",
       "the development of a layered model of the Earth, with a crust and lithosphere on top, the \n",
       "<span style=\"background-color: #90ee90\">mantle below</span> (separated within itself by seismic discontinuities at 410 and 660 kilometers), \n",
       "and the outer core and inner core below that. More recently, seismologists have been able to \n",
       "create detailed images of wave speeds inside the earth in the same way a doctor images a body\n",
       "in a CT scan. These images have led to a much more detailed view of the interior of the \n",
       "Earth, and have replaced the simplified layered model with a much more dynamic model.\n",
       "</pre>\n"
      ],
      "text/plain": [
       "🤖 Seismologists can use the arrival times of seismic waves in reverse to image the interior \n",
       "of the Earth. Early advances in this field showed the existence of a liquid outer core (where\n",
       "shear waves were not able to propagate) and a dense solid inner core. These advances led to \n",
       "the development of a layered model of the Earth, with a crust and lithosphere on top, the \n",
       "\u001b[48;2;144;238;144mmantle below\u001b[0m (separated within itself by seismic discontinuities at 410 and 660 kilometers), \n",
       "and the outer core and inner core below that. More recently, seismologists have been able to \n",
       "create detailed images of wave speeds inside the earth in the same way a doctor images a body\n",
       "in a CT scan. These images have led to a much more detailed view of the interior of the \n",
       "Earth, and have replaced the simplified layered model with a much more dynamic model.\n"
      ]
     },
     "metadata": {},
     "output_type": "display_data"
    },
    {
     "data": {
      "text/html": [
       "<pre style=\"white-space:pre;overflow-x:auto;line-height:normal;font-family:Menlo,'DejaVu Sans Mono',consolas,'Courier New',monospace\">✅ the mantle                    \n",
       "</pre>\n"
      ],
      "text/plain": [
       "✅ the mantle                    \n"
      ]
     },
     "metadata": {},
     "output_type": "display_data"
    },
    {
     "data": {
      "text/html": [
       "<pre style=\"white-space:pre;overflow-x:auto;line-height:normal;font-family:Menlo,'DejaVu Sans Mono',consolas,'Courier New',monospace\"><span style=\"color: #800080; text-decoration-color: #800080\">──────────────────────────────────────── </span>Example 32<span style=\"color: #800080; text-decoration-color: #800080\"> ─────────────────────────────────────────</span>\n",
       "</pre>\n"
      ],
      "text/plain": [
       "\u001b[35m──────────────────────────────────────── \u001b[0mExample 32\u001b[35m ─────────────────────────────────────────\u001b[0m\n"
      ]
     },
     "metadata": {},
     "output_type": "display_data"
    },
    {
     "data": {
      "text/html": [
       "<pre style=\"white-space:pre;overflow-x:auto;line-height:normal;font-family:Menlo,'DejaVu Sans Mono',consolas,'Courier New',monospace\">❓ <span style=\"font-weight: bold\">What position did Justin Tucker play?</span>\n",
       "</pre>\n"
      ],
      "text/plain": [
       "❓ \u001b[1mWhat position did Justin Tucker play?\u001b[0m\n"
      ]
     },
     "metadata": {},
     "output_type": "display_data"
    },
    {
     "data": {
      "text/html": [
       "<pre style=\"white-space:pre;overflow-x:auto;line-height:normal;font-family:Menlo,'DejaVu Sans Mono',consolas,'Courier New',monospace\">🤖 Concerns were raised over whether Levi's Stadium's field was of a high enough quality to \n",
       "host a Super Bowl; during the inaugural season, the field had to be re-sodded multiple times \n",
       "due to various issues, and during a week 6 game earlier in the 2015 season, a portion of the \n",
       "turf collapsed under Baltimore Ravens kicker Justin Tucker, causing him to slip and miss a \n",
       "field goal, although the field has not had any major issues since. As is customary for Super \n",
       "Bowl games played at natural grass stadiums, the NFL re-sodded the field with a new playing \n",
       "surface; a hybrid Bermuda 419 turf. NFL and Atlanta Braves field director Ed Mangan stated \n",
       "that the field was in \"great shape\" for gameday. However, the turf showed problem throughout \n",
       "the game, with a number of players needing to change their cleats during the game and player \n",
       "slipping during plays all throughout the game.\n",
       "</pre>\n"
      ],
      "text/plain": [
       "🤖 Concerns were raised over whether Levi's Stadium's field was of a high enough quality to \n",
       "host a Super Bowl; during the inaugural season, the field had to be re-sodded multiple times \n",
       "due to various issues, and during a week 6 game earlier in the 2015 season, a portion of the \n",
       "turf collapsed under Baltimore Ravens kicker Justin Tucker, causing him to slip and miss a \n",
       "field goal, although the field has not had any major issues since. As is customary for Super \n",
       "Bowl games played at natural grass stadiums, the NFL re-sodded the field with a new playing \n",
       "surface; a hybrid Bermuda 419 turf. NFL and Atlanta Braves field director Ed Mangan stated \n",
       "that the field was in \"great shape\" for gameday. However, the turf showed problem throughout \n",
       "the game, with a number of players needing to change their cleats during the game and player \n",
       "slipping during plays all throughout the game.\n"
      ]
     },
     "metadata": {},
     "output_type": "display_data"
    },
    {
     "data": {
      "text/html": [
       "<pre style=\"white-space:pre;overflow-x:auto;line-height:normal;font-family:Menlo,'DejaVu Sans Mono',consolas,'Courier New',monospace\">✅ kicker                        \n",
       "</pre>\n"
      ],
      "text/plain": [
       "✅ kicker                        \n"
      ]
     },
     "metadata": {},
     "output_type": "display_data"
    },
    {
     "data": {
      "text/html": [
       "<pre style=\"white-space:pre;overflow-x:auto;line-height:normal;font-family:Menlo,'DejaVu Sans Mono',consolas,'Courier New',monospace\"><span style=\"color: #800080; text-decoration-color: #800080\">──────────────────────────────────────── </span>Example 33<span style=\"color: #800080; text-decoration-color: #800080\"> ─────────────────────────────────────────</span>\n",
       "</pre>\n"
      ],
      "text/plain": [
       "\u001b[35m──────────────────────────────────────── \u001b[0mExample 33\u001b[35m ─────────────────────────────────────────\u001b[0m\n"
      ]
     },
     "metadata": {},
     "output_type": "display_data"
    },
    {
     "data": {
      "text/html": [
       "<pre style=\"white-space:pre;overflow-x:auto;line-height:normal;font-family:Menlo,'DejaVu Sans Mono',consolas,'Courier New',monospace\">❓ <span style=\"font-weight: bold\">From whom did the Huguenots in South Carolina purchase land from?</span>\n",
       "</pre>\n"
      ],
      "text/plain": [
       "❓ \u001b[1mFrom whom did the Huguenots in South Carolina purchase land from?\u001b[0m\n"
      ]
     },
     "metadata": {},
     "output_type": "display_data"
    },
    {
     "data": {
      "text/html": [
       "<pre style=\"white-space:pre;overflow-x:auto;line-height:normal;font-family:Menlo,'DejaVu Sans Mono',consolas,'Courier New',monospace\">🤖 In the early years, many Huguenots also settled in the area of present-day Charleston, \n",
       "South Carolina. In 1685, Rev. Elie Prioleau from the town of Pons in France, was among the \n",
       "first to settle there. He became pastor of the first Huguenot church in North America in that\n",
       "city. After the Revocation of the Edict of Nantes in 1685, several Huguenot families of \n",
       "Norman and Carolingian nobility and descent, including Edmund Bohun of Suffolk England from \n",
       "the Humphrey de Bohun line of French royalty descended from Charlemagne, Jean Postell of \n",
       "Dieppe France, Alexander Pepin, Antoine Poitevin of Orsement France, and Jacques de Bordeaux \n",
       "of Grenoble, immigrated to the Charleston Orange district. They were very successful at \n",
       "marriage and property speculation. After petitioning the British Crown in 1697 for the right \n",
       "to own land in the Baronies, they prospered as slave owners on the Cooper, Ashepoo, Ashley \n",
       "and Santee River plantations they purchased from the British Landgrave <span style=\"background-color: #90ee90\">Edmund Bellinger</span>. Some\n",
       "of their descendants moved into the Deep South and Texas, where they developed new \n",
       "plantations.\n",
       "</pre>\n"
      ],
      "text/plain": [
       "🤖 In the early years, many Huguenots also settled in the area of present-day Charleston, \n",
       "South Carolina. In 1685, Rev. Elie Prioleau from the town of Pons in France, was among the \n",
       "first to settle there. He became pastor of the first Huguenot church in North America in that\n",
       "city. After the Revocation of the Edict of Nantes in 1685, several Huguenot families of \n",
       "Norman and Carolingian nobility and descent, including Edmund Bohun of Suffolk England from \n",
       "the Humphrey de Bohun line of French royalty descended from Charlemagne, Jean Postell of \n",
       "Dieppe France, Alexander Pepin, Antoine Poitevin of Orsement France, and Jacques de Bordeaux \n",
       "of Grenoble, immigrated to the Charleston Orange district. They were very successful at \n",
       "marriage and property speculation. After petitioning the British Crown in 1697 for the right \n",
       "to own land in the Baronies, they prospered as slave owners on the Cooper, Ashepoo, Ashley \n",
       "and Santee River plantations they purchased from the British Landgrave \u001b[48;2;144;238;144mEdmund Bellinger\u001b[0m. Some\n",
       "of their descendants moved into the Deep South and Texas, where they developed new \n",
       "plantations.\n"
      ]
     },
     "metadata": {},
     "output_type": "display_data"
    },
    {
     "data": {
      "text/html": [
       "<pre style=\"white-space:pre;overflow-x:auto;line-height:normal;font-family:Menlo,'DejaVu Sans Mono',consolas,'Courier New',monospace\">✅ the British Landgrave Edmund Bellinger\n",
       "</pre>\n"
      ],
      "text/plain": [
       "✅ the British Landgrave Edmund Bellinger\n"
      ]
     },
     "metadata": {},
     "output_type": "display_data"
    },
    {
     "data": {
      "text/html": [
       "<pre style=\"white-space:pre;overflow-x:auto;line-height:normal;font-family:Menlo,'DejaVu Sans Mono',consolas,'Courier New',monospace\"><span style=\"color: #800080; text-decoration-color: #800080\">──────────────────────────────────────── </span>Example 34<span style=\"color: #800080; text-decoration-color: #800080\"> ─────────────────────────────────────────</span>\n",
       "</pre>\n"
      ],
      "text/plain": [
       "\u001b[35m──────────────────────────────────────── \u001b[0mExample 34\u001b[35m ─────────────────────────────────────────\u001b[0m\n"
      ]
     },
     "metadata": {},
     "output_type": "display_data"
    },
    {
     "data": {
      "text/html": [
       "<pre style=\"white-space:pre;overflow-x:auto;line-height:normal;font-family:Menlo,'DejaVu Sans Mono',consolas,'Courier New',monospace\">❓ <span style=\"font-weight: bold\">What other scientist influence Frank Burnet when he was formulating his theory of </span>\n",
       "<span style=\"font-weight: bold\">immunity?</span>\n",
       "</pre>\n"
      ],
      "text/plain": [
       "❓ \u001b[1mWhat other scientist influence Frank Burnet when he was formulating his theory of \u001b[0m\n",
       "\u001b[1mimmunity?\u001b[0m\n"
      ]
     },
     "metadata": {},
     "output_type": "display_data"
    },
    {
     "data": {
      "text/html": [
       "<pre style=\"white-space:pre;overflow-x:auto;line-height:normal;font-family:Menlo,'DejaVu Sans Mono',consolas,'Courier New',monospace\">🤖 In the mid-1950s, Frank Burnet, inspired by a suggestion made by <span style=\"background-color: #90ee90\">Niels Jerne</span>, formulated \n",
       "the clonal selection theory (CST) of immunity. On the basis of CST, Burnet developed a theory\n",
       "of how an immune response is triggered according to the self/nonself distinction: \"self\" \n",
       "constituents (constituents of the body) do not trigger destructive immune responses, while \n",
       "\"nonself\" entities (pathogens, an allograft) trigger a destructive immune response. The \n",
       "theory was later modified to reflect new discoveries regarding histocompatibility or the \n",
       "complex \"two-signal\" activation of T cells. The self/nonself theory of immunity and the \n",
       "self/nonself vocabulary have been criticized, but remain very influential.\n",
       "</pre>\n"
      ],
      "text/plain": [
       "🤖 In the mid-1950s, Frank Burnet, inspired by a suggestion made by \u001b[48;2;144;238;144mNiels Jerne\u001b[0m, formulated \n",
       "the clonal selection theory (CST) of immunity. On the basis of CST, Burnet developed a theory\n",
       "of how an immune response is triggered according to the self/nonself distinction: \"self\" \n",
       "constituents (constituents of the body) do not trigger destructive immune responses, while \n",
       "\"nonself\" entities (pathogens, an allograft) trigger a destructive immune response. The \n",
       "theory was later modified to reflect new discoveries regarding histocompatibility or the \n",
       "complex \"two-signal\" activation of T cells. The self/nonself theory of immunity and the \n",
       "self/nonself vocabulary have been criticized, but remain very influential.\n"
      ]
     },
     "metadata": {},
     "output_type": "display_data"
    },
    {
     "data": {
      "text/html": [
       "<pre style=\"white-space:pre;overflow-x:auto;line-height:normal;font-family:Menlo,'DejaVu Sans Mono',consolas,'Courier New',monospace\">✅ Niels Jerne                   \n",
       "</pre>\n"
      ],
      "text/plain": [
       "✅ Niels Jerne                   \n"
      ]
     },
     "metadata": {},
     "output_type": "display_data"
    },
    {
     "data": {
      "text/html": [
       "<pre style=\"white-space:pre;overflow-x:auto;line-height:normal;font-family:Menlo,'DejaVu Sans Mono',consolas,'Courier New',monospace\"><span style=\"color: #800080; text-decoration-color: #800080\">──────────────────────────────────────── </span>Example 35<span style=\"color: #800080; text-decoration-color: #800080\"> ─────────────────────────────────────────</span>\n",
       "</pre>\n"
      ],
      "text/plain": [
       "\u001b[35m──────────────────────────────────────── \u001b[0mExample 35\u001b[35m ─────────────────────────────────────────\u001b[0m\n"
      ]
     },
     "metadata": {},
     "output_type": "display_data"
    },
    {
     "data": {
      "text/html": [
       "<pre style=\"white-space:pre;overflow-x:auto;line-height:normal;font-family:Menlo,'DejaVu Sans Mono',consolas,'Courier New',monospace\">❓ <span style=\"font-weight: bold\">What has complicated definitions that prevent classification into a framework?</span>\n",
       "</pre>\n"
      ],
      "text/plain": [
       "❓ \u001b[1mWhat has complicated definitions that prevent classification into a framework?\u001b[0m\n"
      ]
     },
     "metadata": {},
     "output_type": "display_data"
    },
    {
     "data": {
      "text/html": [
       "<pre style=\"white-space:pre;overflow-x:auto;line-height:normal;font-family:Menlo,'DejaVu Sans Mono',consolas,'Courier New',monospace\">🤖 Of course, some <span style=\"background-color: #90ee90\">complexity classes</span> have complicated definitions that do not fit into this \n",
       "framework. Thus, a typical complexity class has a definition like the following:\n",
       "</pre>\n"
      ],
      "text/plain": [
       "🤖 Of course, some \u001b[48;2;144;238;144mcomplexity classes\u001b[0m have complicated definitions that do not fit into this \n",
       "framework. Thus, a typical complexity class has a definition like the following:\n"
      ]
     },
     "metadata": {},
     "output_type": "display_data"
    },
    {
     "data": {
      "text/html": [
       "<pre style=\"white-space:pre;overflow-x:auto;line-height:normal;font-family:Menlo,'DejaVu Sans Mono',consolas,'Courier New',monospace\">✅ complexity classes            \n",
       "</pre>\n"
      ],
      "text/plain": [
       "✅ complexity classes            \n"
      ]
     },
     "metadata": {},
     "output_type": "display_data"
    },
    {
     "data": {
      "text/html": [
       "<pre style=\"white-space:pre;overflow-x:auto;line-height:normal;font-family:Menlo,'DejaVu Sans Mono',consolas,'Courier New',monospace\"><span style=\"color: #800080; text-decoration-color: #800080\">──────────────────────────────────────── </span>Example 36<span style=\"color: #800080; text-decoration-color: #800080\"> ─────────────────────────────────────────</span>\n",
       "</pre>\n"
      ],
      "text/plain": [
       "\u001b[35m──────────────────────────────────────── \u001b[0mExample 36\u001b[35m ─────────────────────────────────────────\u001b[0m\n"
      ]
     },
     "metadata": {},
     "output_type": "display_data"
    },
    {
     "data": {
      "text/html": [
       "<pre style=\"white-space:pre;overflow-x:auto;line-height:normal;font-family:Menlo,'DejaVu Sans Mono',consolas,'Courier New',monospace\">❓ <span style=\"font-weight: bold\">What direction do ctenophore swim?</span>\n",
       "</pre>\n"
      ],
      "text/plain": [
       "❓ \u001b[1mWhat direction do ctenophore swim?\u001b[0m\n"
      ]
     },
     "metadata": {},
     "output_type": "display_data"
    },
    {
     "data": {
      "text/html": [
       "<pre style=\"white-space:pre;overflow-x:auto;line-height:normal;font-family:Menlo,'DejaVu Sans Mono',consolas,'Courier New',monospace\">🤖 The outer surface bears usually eight comb rows, called swimming-plates, which are used \n",
       "for swimming. The rows are oriented to run from near the mouth (the \"oral pole\") to the \n",
       "opposite end (the \"aboral pole\"), and are spaced more or less evenly around the body, \n",
       "although spacing patterns vary by species and in most species the comb rows extend only part \n",
       "of the distance from the aboral pole towards the mouth. The \"combs\" (also called \"ctenes\" or \n",
       "\"comb plates\") run across each row, and each consists of thousands of unusually long cilia, \n",
       "up to 2 millimeters (0.079 in). Unlike conventional cilia and flagella, which has a filament \n",
       "structure arranged in a 9 + 2 pattern, these cilia are arranged in a 9 + 3 pattern, where the\n",
       "extra compact filament is suspected to have a supporting function. These normally beat so \n",
       "that the propulsion stroke is away from the mouth, although they can also reverse direction. \n",
       "Hence ctenophores usually swim in the <span style=\"background-color: #90ee90\">direction in which the mouth is pointing</span>, unlike \n",
       "jellyfish. When trying to escape predators, one species can accelerate to six times its \n",
       "normal speed; some other species reverse direction as part of their escape behavior, by \n",
       "reversing the power stroke of the comb plate cilia.\n",
       "</pre>\n"
      ],
      "text/plain": [
       "🤖 The outer surface bears usually eight comb rows, called swimming-plates, which are used \n",
       "for swimming. The rows are oriented to run from near the mouth (the \"oral pole\") to the \n",
       "opposite end (the \"aboral pole\"), and are spaced more or less evenly around the body, \n",
       "although spacing patterns vary by species and in most species the comb rows extend only part \n",
       "of the distance from the aboral pole towards the mouth. The \"combs\" (also called \"ctenes\" or \n",
       "\"comb plates\") run across each row, and each consists of thousands of unusually long cilia, \n",
       "up to 2 millimeters (0.079 in). Unlike conventional cilia and flagella, which has a filament \n",
       "structure arranged in a 9 + 2 pattern, these cilia are arranged in a 9 + 3 pattern, where the\n",
       "extra compact filament is suspected to have a supporting function. These normally beat so \n",
       "that the propulsion stroke is away from the mouth, although they can also reverse direction. \n",
       "Hence ctenophores usually swim in the \u001b[48;2;144;238;144mdirection in which the mouth is pointing\u001b[0m, unlike \n",
       "jellyfish. When trying to escape predators, one species can accelerate to six times its \n",
       "normal speed; some other species reverse direction as part of their escape behavior, by \n",
       "reversing the power stroke of the comb plate cilia.\n"
      ]
     },
     "metadata": {},
     "output_type": "display_data"
    },
    {
     "data": {
      "text/html": [
       "<pre style=\"white-space:pre;overflow-x:auto;line-height:normal;font-family:Menlo,'DejaVu Sans Mono',consolas,'Courier New',monospace\">✅ in the direction in which the mouth is pointing,\n",
       "</pre>\n"
      ],
      "text/plain": [
       "✅ in the direction in which the mouth is pointing,\n"
      ]
     },
     "metadata": {},
     "output_type": "display_data"
    },
    {
     "data": {
      "text/html": [
       "<pre style=\"white-space:pre;overflow-x:auto;line-height:normal;font-family:Menlo,'DejaVu Sans Mono',consolas,'Courier New',monospace\"><span style=\"color: #800080; text-decoration-color: #800080\">──────────────────────────────────────── </span>Example 37<span style=\"color: #800080; text-decoration-color: #800080\"> ─────────────────────────────────────────</span>\n",
       "</pre>\n"
      ],
      "text/plain": [
       "\u001b[35m──────────────────────────────────────── \u001b[0mExample 37\u001b[35m ─────────────────────────────────────────\u001b[0m\n"
      ]
     },
     "metadata": {},
     "output_type": "display_data"
    },
    {
     "data": {
      "text/html": [
       "<pre style=\"white-space:pre;overflow-x:auto;line-height:normal;font-family:Menlo,'DejaVu Sans Mono',consolas,'Courier New',monospace\">❓ <span style=\"font-weight: bold\">What is the name of the law which imposed the speed limit?</span>\n",
       "</pre>\n"
      ],
      "text/plain": [
       "❓ \u001b[1mWhat is the name of the law which imposed the speed limit?\u001b[0m\n"
      ]
     },
     "metadata": {},
     "output_type": "display_data"
    },
    {
     "data": {
      "text/html": [
       "<pre style=\"white-space:pre;overflow-x:auto;line-height:normal;font-family:Menlo,'DejaVu Sans Mono',consolas,'Courier New',monospace\">🤖 To help reduce consumption, in 1974 a national maximum speed limit of 55 mph (about 88 \n",
       "km/h) was imposed through the <span style=\"background-color: #90ee90\">Emergency Highway Energy Conservation Act</span>. Development of the \n",
       "Strategic Petroleum Reserve began in 1975, and in 1977 the cabinet-level Department of Energy\n",
       "was created, followed by the National Energy Act of 1978.[citation needed] On November 28, \n",
       "1995, Bill Clinton signed the National Highway Designation Act, ending the federal 55 mph (89\n",
       "km/h) speed limit, allowing states to restore their prior maximum speed limit.\n",
       "</pre>\n"
      ],
      "text/plain": [
       "🤖 To help reduce consumption, in 1974 a national maximum speed limit of 55 mph (about 88 \n",
       "km/h) was imposed through the \u001b[48;2;144;238;144mEmergency Highway Energy Conservation Act\u001b[0m. Development of the \n",
       "Strategic Petroleum Reserve began in 1975, and in 1977 the cabinet-level Department of Energy\n",
       "was created, followed by the National Energy Act of 1978.[citation needed] On November 28, \n",
       "1995, Bill Clinton signed the National Highway Designation Act, ending the federal 55 mph (89\n",
       "km/h) speed limit, allowing states to restore their prior maximum speed limit.\n"
      ]
     },
     "metadata": {},
     "output_type": "display_data"
    },
    {
     "data": {
      "text/html": [
       "<pre style=\"white-space:pre;overflow-x:auto;line-height:normal;font-family:Menlo,'DejaVu Sans Mono',consolas,'Courier New',monospace\">✅ Emergency Highway Energy Conservation Act\n",
       "</pre>\n"
      ],
      "text/plain": [
       "✅ Emergency Highway Energy Conservation Act\n"
      ]
     },
     "metadata": {},
     "output_type": "display_data"
    },
    {
     "data": {
      "text/html": [
       "<pre style=\"white-space:pre;overflow-x:auto;line-height:normal;font-family:Menlo,'DejaVu Sans Mono',consolas,'Courier New',monospace\"><span style=\"color: #800080; text-decoration-color: #800080\">──────────────────────────────────────── </span>Example 38<span style=\"color: #800080; text-decoration-color: #800080\"> ─────────────────────────────────────────</span>\n",
       "</pre>\n"
      ],
      "text/plain": [
       "\u001b[35m──────────────────────────────────────── \u001b[0mExample 38\u001b[35m ─────────────────────────────────────────\u001b[0m\n"
      ]
     },
     "metadata": {},
     "output_type": "display_data"
    },
    {
     "data": {
      "text/html": [
       "<pre style=\"white-space:pre;overflow-x:auto;line-height:normal;font-family:Menlo,'DejaVu Sans Mono',consolas,'Courier New',monospace\">❓ <span style=\"font-weight: bold\">Recently a more detailed model of the Earth was developed. Seismologists were able to </span>\n",
       "<span style=\"font-weight: bold\">create this using images of what from the interior of the Earth? </span>\n",
       "</pre>\n"
      ],
      "text/plain": [
       "❓ \u001b[1mRecently a more detailed model of the Earth was developed. Seismologists were able to \u001b[0m\n",
       "\u001b[1mcreate this using images of what from the interior of the Earth? \u001b[0m\n"
      ]
     },
     "metadata": {},
     "output_type": "display_data"
    },
    {
     "data": {
      "text/html": [
       "<pre style=\"white-space:pre;overflow-x:auto;line-height:normal;font-family:Menlo,'DejaVu Sans Mono',consolas,'Courier New',monospace\">🤖 Seismologists can use the arrival times of seismic waves in reverse to image the interior \n",
       "of the Earth. Early advances in this field showed the existence of a liquid outer core (where\n",
       "shear waves were not able to propagate) and a dense solid inner core. These advances led to \n",
       "the development of a layered model of the Earth, with a crust and lithosphere on top, the \n",
       "mantle below (separated within itself by seismic discontinuities at 410 and 660 kilometers), \n",
       "and the outer core and inner core below that. More recently, seismologists have been able to \n",
       "create detailed images of <span style=\"background-color: #90ee90\">wave speeds</span> inside the earth in the same way a doctor images a body\n",
       "in a CT scan. These images have led to a much more detailed view of the interior of the \n",
       "Earth, and have replaced the simplified layered model with a much more dynamic model.\n",
       "</pre>\n"
      ],
      "text/plain": [
       "🤖 Seismologists can use the arrival times of seismic waves in reverse to image the interior \n",
       "of the Earth. Early advances in this field showed the existence of a liquid outer core (where\n",
       "shear waves were not able to propagate) and a dense solid inner core. These advances led to \n",
       "the development of a layered model of the Earth, with a crust and lithosphere on top, the \n",
       "mantle below (separated within itself by seismic discontinuities at 410 and 660 kilometers), \n",
       "and the outer core and inner core below that. More recently, seismologists have been able to \n",
       "create detailed images of \u001b[48;2;144;238;144mwave speeds\u001b[0m inside the earth in the same way a doctor images a body\n",
       "in a CT scan. These images have led to a much more detailed view of the interior of the \n",
       "Earth, and have replaced the simplified layered model with a much more dynamic model.\n"
      ]
     },
     "metadata": {},
     "output_type": "display_data"
    },
    {
     "data": {
      "text/html": [
       "<pre style=\"white-space:pre;overflow-x:auto;line-height:normal;font-family:Menlo,'DejaVu Sans Mono',consolas,'Courier New',monospace\">✅ wave speeds                   \n",
       "</pre>\n"
      ],
      "text/plain": [
       "✅ wave speeds                   \n"
      ]
     },
     "metadata": {},
     "output_type": "display_data"
    },
    {
     "data": {
      "text/html": [
       "<pre style=\"white-space:pre;overflow-x:auto;line-height:normal;font-family:Menlo,'DejaVu Sans Mono',consolas,'Courier New',monospace\"><span style=\"color: #800080; text-decoration-color: #800080\">──────────────────────────────────────── </span>Example 39<span style=\"color: #800080; text-decoration-color: #800080\"> ─────────────────────────────────────────</span>\n",
       "</pre>\n"
      ],
      "text/plain": [
       "\u001b[35m──────────────────────────────────────── \u001b[0mExample 39\u001b[35m ─────────────────────────────────────────\u001b[0m\n"
      ]
     },
     "metadata": {},
     "output_type": "display_data"
    },
    {
     "data": {
      "text/html": [
       "<pre style=\"white-space:pre;overflow-x:auto;line-height:normal;font-family:Menlo,'DejaVu Sans Mono',consolas,'Courier New',monospace\">❓ <span style=\"font-weight: bold\">When did Tesla discover the possibility of wireless connectivity?</span>\n",
       "</pre>\n"
      ],
      "text/plain": [
       "❓ \u001b[1mWhen did Tesla discover the possibility of wireless connectivity?\u001b[0m\n"
      ]
     },
     "metadata": {},
     "output_type": "display_data"
    },
    {
     "data": {
      "text/html": [
       "<pre style=\"white-space:pre;overflow-x:auto;line-height:normal;font-family:Menlo,'DejaVu Sans Mono',consolas,'Courier New',monospace\">🤖 Tesla went on to pursue his ideas of wireless lighting and electricity distribution in his\n",
       "high-voltage, high-frequency power experiments in New York and Colorado Springs, and made \n",
       "early (<span style=\"background-color: #90ee90\">1893</span>) pronouncements on the possibility of wireless communication with his devices. He\n",
       "tried to put these ideas to practical use in an ill-fated attempt at intercontinental \n",
       "wireless transmission, his unfinished Wardenclyffe Tower project. In his lab he also \n",
       "conducted a range of experiments with mechanical oscillators/generators, electrical discharge\n",
       "tubes, and early X-ray imaging. He also built a wireless controlled boat, one of the first \n",
       "ever exhibited.\n",
       "</pre>\n"
      ],
      "text/plain": [
       "🤖 Tesla went on to pursue his ideas of wireless lighting and electricity distribution in his\n",
       "high-voltage, high-frequency power experiments in New York and Colorado Springs, and made \n",
       "early (\u001b[48;2;144;238;144m1893\u001b[0m) pronouncements on the possibility of wireless communication with his devices. He\n",
       "tried to put these ideas to practical use in an ill-fated attempt at intercontinental \n",
       "wireless transmission, his unfinished Wardenclyffe Tower project. In his lab he also \n",
       "conducted a range of experiments with mechanical oscillators/generators, electrical discharge\n",
       "tubes, and early X-ray imaging. He also built a wireless controlled boat, one of the first \n",
       "ever exhibited.\n"
      ]
     },
     "metadata": {},
     "output_type": "display_data"
    },
    {
     "data": {
      "text/html": [
       "<pre style=\"white-space:pre;overflow-x:auto;line-height:normal;font-family:Menlo,'DejaVu Sans Mono',consolas,'Courier New',monospace\">✅ 1893                          \n",
       "</pre>\n"
      ],
      "text/plain": [
       "✅ 1893                          \n"
      ]
     },
     "metadata": {},
     "output_type": "display_data"
    },
    {
     "data": {
      "text/html": [
       "<pre style=\"white-space:pre;overflow-x:auto;line-height:normal;font-family:Menlo,'DejaVu Sans Mono',consolas,'Courier New',monospace\"><span style=\"color: #800080; text-decoration-color: #800080\">──────────────────────────────────────── </span>Example 40<span style=\"color: #800080; text-decoration-color: #800080\"> ─────────────────────────────────────────</span>\n",
       "</pre>\n"
      ],
      "text/plain": [
       "\u001b[35m──────────────────────────────────────── \u001b[0mExample 40\u001b[35m ─────────────────────────────────────────\u001b[0m\n"
      ]
     },
     "metadata": {},
     "output_type": "display_data"
    },
    {
     "data": {
      "text/html": [
       "<pre style=\"white-space:pre;overflow-x:auto;line-height:normal;font-family:Menlo,'DejaVu Sans Mono',consolas,'Courier New',monospace\">❓ <span style=\"font-weight: bold\">How is the plaster replica of Verrocchio's David displayed in the Cast Courts?</span>\n",
       "</pre>\n"
      ],
      "text/plain": [
       "❓ \u001b[1mHow is the plaster replica of Verrocchio's David displayed in the Cast Courts?\u001b[0m\n"
      ]
     },
     "metadata": {},
     "output_type": "display_data"
    },
    {
     "data": {
      "text/html": [
       "<pre style=\"white-space:pre;overflow-x:auto;line-height:normal;font-family:Menlo,'DejaVu Sans Mono',consolas,'Courier New',monospace\">🤖 One of the most dramatic parts of the museum is the Cast Courts in the sculpture wing, \n",
       "comprising two large, skylighted rooms two storeys high housing hundreds of plaster casts of \n",
       "sculptures, friezes and tombs. One of these is dominated by a full-scale replica of Trajan's \n",
       "Column, cut in half in order to fit under the ceiling. The other includes reproductions of \n",
       "various works of Italian Renaissance sculpture and architecture, including a full-size \n",
       "replica of Michelangelo's David. Replicas of two earlier Davids by Donatello's David and \n",
       "Verrocchio's David, are also included, although for conservation reasons the Verrocchio \n",
       "replica is displayed in a <span style=\"background-color: #90ee90\">glass case</span>.\n",
       "</pre>\n"
      ],
      "text/plain": [
       "🤖 One of the most dramatic parts of the museum is the Cast Courts in the sculpture wing, \n",
       "comprising two large, skylighted rooms two storeys high housing hundreds of plaster casts of \n",
       "sculptures, friezes and tombs. One of these is dominated by a full-scale replica of Trajan's \n",
       "Column, cut in half in order to fit under the ceiling. The other includes reproductions of \n",
       "various works of Italian Renaissance sculpture and architecture, including a full-size \n",
       "replica of Michelangelo's David. Replicas of two earlier Davids by Donatello's David and \n",
       "Verrocchio's David, are also included, although for conservation reasons the Verrocchio \n",
       "replica is displayed in a \u001b[48;2;144;238;144mglass case\u001b[0m.\n"
      ]
     },
     "metadata": {},
     "output_type": "display_data"
    },
    {
     "data": {
      "text/html": [
       "<pre style=\"white-space:pre;overflow-x:auto;line-height:normal;font-family:Menlo,'DejaVu Sans Mono',consolas,'Courier New',monospace\">✅ in a glass case               \n",
       "</pre>\n"
      ],
      "text/plain": [
       "✅ in a glass case               \n"
      ]
     },
     "metadata": {},
     "output_type": "display_data"
    },
    {
     "data": {
      "text/html": [
       "<pre style=\"white-space:pre;overflow-x:auto;line-height:normal;font-family:Menlo,'DejaVu Sans Mono',consolas,'Courier New',monospace\"><span style=\"color: #800080; text-decoration-color: #800080\">──────────────────────────────────────── </span>Example 41<span style=\"color: #800080; text-decoration-color: #800080\"> ─────────────────────────────────────────</span>\n",
       "</pre>\n"
      ],
      "text/plain": [
       "\u001b[35m──────────────────────────────────────── \u001b[0mExample 41\u001b[35m ─────────────────────────────────────────\u001b[0m\n"
      ]
     },
     "metadata": {},
     "output_type": "display_data"
    },
    {
     "data": {
      "text/html": [
       "<pre style=\"white-space:pre;overflow-x:auto;line-height:normal;font-family:Menlo,'DejaVu Sans Mono',consolas,'Courier New',monospace\">❓ <span style=\"font-weight: bold\">How many weeks each year does the food and drink festival run?</span>\n",
       "</pre>\n"
      ],
      "text/plain": [
       "❓ \u001b[1mHow many weeks each year does the food and drink festival run?\u001b[0m\n"
      ]
     },
     "metadata": {},
     "output_type": "display_data"
    },
    {
     "data": {
      "text/html": [
       "<pre style=\"white-space:pre;overflow-x:auto;line-height:normal;font-family:Menlo,'DejaVu Sans Mono',consolas,'Courier New',monospace\">🤖 The Newcastle Beer Festival, organized by CAMRA, takes place in April. In May, Newcastle \n",
       "and Gateshead host the Evolution Festival, a music festival held on the Newcastle and \n",
       "Gateshead Quaysides over the Spring bank holiday, with performances by acts from the world of\n",
       "Rock, Indie and Dance music. The biennial AV Festival of international electronic art, \n",
       "featuring exhibitions, concerts, conferences and film screenings, is held in March. The North\n",
       "East Art Expo, a festival of art and design from the regions professional artists, is held in\n",
       "late May. EAT! NewcastleGateshead, a festival of food and drink, runs for <span style=\"background-color: #90ee90\">2</span> weeks each year \n",
       "in mid June.\n",
       "</pre>\n"
      ],
      "text/plain": [
       "🤖 The Newcastle Beer Festival, organized by CAMRA, takes place in April. In May, Newcastle \n",
       "and Gateshead host the Evolution Festival, a music festival held on the Newcastle and \n",
       "Gateshead Quaysides over the Spring bank holiday, with performances by acts from the world of\n",
       "Rock, Indie and Dance music. The biennial AV Festival of international electronic art, \n",
       "featuring exhibitions, concerts, conferences and film screenings, is held in March. The North\n",
       "East Art Expo, a festival of art and design from the regions professional artists, is held in\n",
       "late May. EAT! NewcastleGateshead, a festival of food and drink, runs for \u001b[48;2;144;238;144m2\u001b[0m weeks each year \n",
       "in mid June.\n"
      ]
     },
     "metadata": {},
     "output_type": "display_data"
    },
    {
     "data": {
      "text/html": [
       "<pre style=\"white-space:pre;overflow-x:auto;line-height:normal;font-family:Menlo,'DejaVu Sans Mono',consolas,'Courier New',monospace\">✅ 2                             \n",
       "</pre>\n"
      ],
      "text/plain": [
       "✅ 2                             \n"
      ]
     },
     "metadata": {},
     "output_type": "display_data"
    },
    {
     "data": {
      "text/html": [
       "<pre style=\"white-space:pre;overflow-x:auto;line-height:normal;font-family:Menlo,'DejaVu Sans Mono',consolas,'Courier New',monospace\"><span style=\"color: #800080; text-decoration-color: #800080\">──────────────────────────────────────── </span>Example 42<span style=\"color: #800080; text-decoration-color: #800080\"> ─────────────────────────────────────────</span>\n",
       "</pre>\n"
      ],
      "text/plain": [
       "\u001b[35m──────────────────────────────────────── \u001b[0mExample 42\u001b[35m ─────────────────────────────────────────\u001b[0m\n"
      ]
     },
     "metadata": {},
     "output_type": "display_data"
    },
    {
     "data": {
      "text/html": [
       "<pre style=\"white-space:pre;overflow-x:auto;line-height:normal;font-family:Menlo,'DejaVu Sans Mono',consolas,'Courier New',monospace\">❓ <span style=\"font-weight: bold\">Who built a castle in Newcastle in 1080?</span>\n",
       "</pre>\n"
      ],
      "text/plain": [
       "❓ \u001b[1mWho built a castle in Newcastle in 1080?\u001b[0m\n"
      ]
     },
     "metadata": {},
     "output_type": "display_data"
    },
    {
     "data": {
      "text/html": [
       "<pre style=\"white-space:pre;overflow-x:auto;line-height:normal;font-family:Menlo,'DejaVu Sans Mono',consolas,'Courier New',monospace\">🤖 The city developed around the Roman settlement Pons Aelius and was named after the castle \n",
       "built in 1080 by <span style=\"background-color: #90ee90\">Robert Curthose</span>, William the Conqueror's eldest son. The city grew as an \n",
       "important centre for the wool trade in the 14th century, and later became a major coal mining\n",
       "area. The port developed in the 16th century and, along with the shipyards lower down the \n",
       "River Tyne, was amongst the world's largest shipbuilding and ship-repairing centres. \n",
       "Newcastle's economy includes corporate headquarters, learning, digital technology, retail, \n",
       "tourism and cultural centres, from which the city contributes £13 billion towards the United \n",
       "Kingdom's GVA. Among its icons are Newcastle Brown Ale; Newcastle United football club; and \n",
       "the Tyne Bridge. It has hosted the world's most popular half marathon, the Great North Run, \n",
       "since it began in 1981.\n",
       "</pre>\n"
      ],
      "text/plain": [
       "🤖 The city developed around the Roman settlement Pons Aelius and was named after the castle \n",
       "built in 1080 by \u001b[48;2;144;238;144mRobert Curthose\u001b[0m, William the Conqueror's eldest son. The city grew as an \n",
       "important centre for the wool trade in the 14th century, and later became a major coal mining\n",
       "area. The port developed in the 16th century and, along with the shipyards lower down the \n",
       "River Tyne, was amongst the world's largest shipbuilding and ship-repairing centres. \n",
       "Newcastle's economy includes corporate headquarters, learning, digital technology, retail, \n",
       "tourism and cultural centres, from which the city contributes £13 billion towards the United \n",
       "Kingdom's GVA. Among its icons are Newcastle Brown Ale; Newcastle United football club; and \n",
       "the Tyne Bridge. It has hosted the world's most popular half marathon, the Great North Run, \n",
       "since it began in 1981.\n"
      ]
     },
     "metadata": {},
     "output_type": "display_data"
    },
    {
     "data": {
      "text/html": [
       "<pre style=\"white-space:pre;overflow-x:auto;line-height:normal;font-family:Menlo,'DejaVu Sans Mono',consolas,'Courier New',monospace\">✅ Robert Curthose               \n",
       "</pre>\n"
      ],
      "text/plain": [
       "✅ Robert Curthose               \n"
      ]
     },
     "metadata": {},
     "output_type": "display_data"
    },
    {
     "data": {
      "text/html": [
       "<pre style=\"white-space:pre;overflow-x:auto;line-height:normal;font-family:Menlo,'DejaVu Sans Mono',consolas,'Courier New',monospace\"><span style=\"color: #800080; text-decoration-color: #800080\">──────────────────────────────────────── </span>Example 43<span style=\"color: #800080; text-decoration-color: #800080\"> ─────────────────────────────────────────</span>\n",
       "</pre>\n"
      ],
      "text/plain": [
       "\u001b[35m──────────────────────────────────────── \u001b[0mExample 43\u001b[35m ─────────────────────────────────────────\u001b[0m\n"
      ]
     },
     "metadata": {},
     "output_type": "display_data"
    },
    {
     "data": {
      "text/html": [
       "<pre style=\"white-space:pre;overflow-x:auto;line-height:normal;font-family:Menlo,'DejaVu Sans Mono',consolas,'Courier New',monospace\">❓ <span style=\"font-weight: bold\">What are some Chlorophyta and euglenid chloroplasts missing?</span>\n",
       "</pre>\n"
      ],
      "text/plain": [
       "❓ \u001b[1mWhat are some Chlorophyta and euglenid chloroplasts missing?\u001b[0m\n"
      ]
     },
     "metadata": {},
     "output_type": "display_data"
    },
    {
     "data": {
      "text/html": [
       "<pre style=\"white-space:pre;overflow-x:auto;line-height:normal;font-family:Menlo,'DejaVu Sans Mono',consolas,'Courier New',monospace\">🤖 Chloroplasts have their own ribosomes, which they use to synthesize a small fraction of \n",
       "their proteins. Chloroplast ribosomes are about two-thirds the size of cytoplasmic ribosomes \n",
       "(around 17 nm vs 25 nm). They take mRNAs transcribed from the chloroplast DNA and translate \n",
       "them into protein. While similar to bacterial ribosomes, chloroplast translation is more \n",
       "complex than in bacteria, so chloroplast ribosomes include some chloroplast-unique features. \n",
       "Small subunit ribosomal RNAs in several Chlorophyta and euglenid chloroplasts lack <span style=\"background-color: #90ee90\">motifs for</span>\n",
       "<span style=\"background-color: #90ee90\">shine-dalgarno sequence recognition</span>, which is considered essential for translation initiation\n",
       "in most chloroplasts and prokaryotes. Such loss is also rarely observed in other plastids and\n",
       "prokaryotes.\n",
       "</pre>\n"
      ],
      "text/plain": [
       "🤖 Chloroplasts have their own ribosomes, which they use to synthesize a small fraction of \n",
       "their proteins. Chloroplast ribosomes are about two-thirds the size of cytoplasmic ribosomes \n",
       "(around 17 nm vs 25 nm). They take mRNAs transcribed from the chloroplast DNA and translate \n",
       "them into protein. While similar to bacterial ribosomes, chloroplast translation is more \n",
       "complex than in bacteria, so chloroplast ribosomes include some chloroplast-unique features. \n",
       "Small subunit ribosomal RNAs in several Chlorophyta and euglenid chloroplasts lack \u001b[48;2;144;238;144mmotifs for\u001b[0m\n",
       "\u001b[48;2;144;238;144mshine-dalgarno sequence recognition\u001b[0m, which is considered essential for translation initiation\n",
       "in most chloroplasts and prokaryotes. Such loss is also rarely observed in other plastids and\n",
       "prokaryotes.\n"
      ]
     },
     "metadata": {},
     "output_type": "display_data"
    },
    {
     "data": {
      "text/html": [
       "<pre style=\"white-space:pre;overflow-x:auto;line-height:normal;font-family:Menlo,'DejaVu Sans Mono',consolas,'Courier New',monospace\">✅ motifs for shine-dalgarno sequence recognition\n",
       "</pre>\n"
      ],
      "text/plain": [
       "✅ motifs for shine-dalgarno sequence recognition\n"
      ]
     },
     "metadata": {},
     "output_type": "display_data"
    },
    {
     "data": {
      "text/html": [
       "<pre style=\"white-space:pre;overflow-x:auto;line-height:normal;font-family:Menlo,'DejaVu Sans Mono',consolas,'Courier New',monospace\"><span style=\"color: #800080; text-decoration-color: #800080\">──────────────────────────────────────── </span>Example 44<span style=\"color: #800080; text-decoration-color: #800080\"> ─────────────────────────────────────────</span>\n",
       "</pre>\n"
      ],
      "text/plain": [
       "\u001b[35m──────────────────────────────────────── \u001b[0mExample 44\u001b[35m ─────────────────────────────────────────\u001b[0m\n"
      ]
     },
     "metadata": {},
     "output_type": "display_data"
    },
    {
     "data": {
      "text/html": [
       "<pre style=\"white-space:pre;overflow-x:auto;line-height:normal;font-family:Menlo,'DejaVu Sans Mono',consolas,'Courier New',monospace\">❓ <span style=\"font-weight: bold\">What chloroplast lineage is Cyanophora in?</span>\n",
       "</pre>\n"
      ],
      "text/plain": [
       "❓ \u001b[1mWhat chloroplast lineage is Cyanophora in?\u001b[0m\n"
      ]
     },
     "metadata": {},
     "output_type": "display_data"
    },
    {
     "data": {
      "text/html": [
       "<pre style=\"white-space:pre;overflow-x:auto;line-height:normal;font-family:Menlo,'DejaVu Sans Mono',consolas,'Courier New',monospace\">🤖 The <span style=\"background-color: #90ee90\">alga</span> Cyanophora, a glaucophyte, is thought to be one of the first organisms to contain\n",
       "a chloroplast. The glaucophyte chloroplast group is the smallest of the three primary \n",
       "chloroplast lineages, being found in only 13 species, and is thought to be the one that \n",
       "branched off the earliest. Glaucophytes have chloroplasts that retain a peptidoglycan wall \n",
       "between their double membranes, like their cyanobacterial parent. For this reason, \n",
       "glaucophyte chloroplasts are also known as muroplasts. Glaucophyte chloroplasts also contain \n",
       "concentric unstacked thylakoids, which surround a carboxysome - an icosahedral structure that\n",
       "glaucophyte chloroplasts and cyanobacteria keep their carbon fixation enzyme rubisco in. The \n",
       "starch that they synthesize collects outside the chloroplast. Like cyanobacteria, glaucophyte\n",
       "chloroplast thylakoids are studded with light collecting structures called phycobilisomes. \n",
       "For these reasons, glaucophyte chloroplasts are considered a primitive intermediate between \n",
       "cyanobacteria and the more evolved chloroplasts in red algae and plants.\n",
       "</pre>\n"
      ],
      "text/plain": [
       "🤖 The \u001b[48;2;144;238;144malga\u001b[0m Cyanophora, a glaucophyte, is thought to be one of the first organisms to contain\n",
       "a chloroplast. The glaucophyte chloroplast group is the smallest of the three primary \n",
       "chloroplast lineages, being found in only 13 species, and is thought to be the one that \n",
       "branched off the earliest. Glaucophytes have chloroplasts that retain a peptidoglycan wall \n",
       "between their double membranes, like their cyanobacterial parent. For this reason, \n",
       "glaucophyte chloroplasts are also known as muroplasts. Glaucophyte chloroplasts also contain \n",
       "concentric unstacked thylakoids, which surround a carboxysome - an icosahedral structure that\n",
       "glaucophyte chloroplasts and cyanobacteria keep their carbon fixation enzyme rubisco in. The \n",
       "starch that they synthesize collects outside the chloroplast. Like cyanobacteria, glaucophyte\n",
       "chloroplast thylakoids are studded with light collecting structures called phycobilisomes. \n",
       "For these reasons, glaucophyte chloroplasts are considered a primitive intermediate between \n",
       "cyanobacteria and the more evolved chloroplasts in red algae and plants.\n"
      ]
     },
     "metadata": {},
     "output_type": "display_data"
    },
    {
     "data": {
      "text/html": [
       "<pre style=\"white-space:pre;overflow-x:auto;line-height:normal;font-family:Menlo,'DejaVu Sans Mono',consolas,'Courier New',monospace\">✅ glaucophyte                   \n",
       "</pre>\n"
      ],
      "text/plain": [
       "✅ glaucophyte                   \n"
      ]
     },
     "metadata": {},
     "output_type": "display_data"
    },
    {
     "data": {
      "text/html": [
       "<pre style=\"white-space:pre;overflow-x:auto;line-height:normal;font-family:Menlo,'DejaVu Sans Mono',consolas,'Courier New',monospace\"><span style=\"color: #800080; text-decoration-color: #800080\">──────────────────────────────────────── </span>Example 45<span style=\"color: #800080; text-decoration-color: #800080\"> ─────────────────────────────────────────</span>\n",
       "</pre>\n"
      ],
      "text/plain": [
       "\u001b[35m──────────────────────────────────────── \u001b[0mExample 45\u001b[35m ─────────────────────────────────────────\u001b[0m\n"
      ]
     },
     "metadata": {},
     "output_type": "display_data"
    },
    {
     "data": {
      "text/html": [
       "<pre style=\"white-space:pre;overflow-x:auto;line-height:normal;font-family:Menlo,'DejaVu Sans Mono',consolas,'Courier New',monospace\">❓ <span style=\"font-weight: bold\">What helps to unleash the productivity ability of the poor?</span>\n",
       "</pre>\n"
      ],
      "text/plain": [
       "❓ \u001b[1mWhat helps to unleash the productivity ability of the poor?\u001b[0m\n"
      ]
     },
     "metadata": {},
     "output_type": "display_data"
    },
    {
     "data": {
      "text/html": [
       "<pre style=\"white-space:pre;overflow-x:auto;line-height:normal;font-family:Menlo,'DejaVu Sans Mono',consolas,'Courier New',monospace\">🤖 An important factor in the creation of inequality is variation in individuals' access to \n",
       "education. Education, especially in an area where there is a high demand for workers, creates\n",
       "high wages for those with this education, however, increases in education first increase and \n",
       "then decrease growth as well as income inequality. As a result, those who are unable to \n",
       "afford an education, or choose not to pursue optional education, generally receive much lower\n",
       "wages. The justification for this is that a lack of education leads directly to lower \n",
       "incomes, and thus lower aggregate savings and investment. Conversely, <span style=\"background-color: #90ee90\">education raises </span>\n",
       "<span style=\"background-color: #90ee90\">incomes and promotes growth</span> because it helps to unleash the productive potential of the poor.\n",
       "</pre>\n"
      ],
      "text/plain": [
       "🤖 An important factor in the creation of inequality is variation in individuals' access to \n",
       "education. Education, especially in an area where there is a high demand for workers, creates\n",
       "high wages for those with this education, however, increases in education first increase and \n",
       "then decrease growth as well as income inequality. As a result, those who are unable to \n",
       "afford an education, or choose not to pursue optional education, generally receive much lower\n",
       "wages. The justification for this is that a lack of education leads directly to lower \n",
       "incomes, and thus lower aggregate savings and investment. Conversely, \u001b[48;2;144;238;144meducation raises \u001b[0m\n",
       "\u001b[48;2;144;238;144mincomes and promotes growth\u001b[0m because it helps to unleash the productive potential of the poor.\n"
      ]
     },
     "metadata": {},
     "output_type": "display_data"
    },
    {
     "data": {
      "text/html": [
       "<pre style=\"white-space:pre;overflow-x:auto;line-height:normal;font-family:Menlo,'DejaVu Sans Mono',consolas,'Courier New',monospace\">✅ education                     \n",
       "</pre>\n"
      ],
      "text/plain": [
       "✅ education                     \n"
      ]
     },
     "metadata": {},
     "output_type": "display_data"
    },
    {
     "data": {
      "text/html": [
       "<pre style=\"white-space:pre;overflow-x:auto;line-height:normal;font-family:Menlo,'DejaVu Sans Mono',consolas,'Courier New',monospace\"><span style=\"color: #800080; text-decoration-color: #800080\">──────────────────────────────────────── </span>Example 46<span style=\"color: #800080; text-decoration-color: #800080\"> ─────────────────────────────────────────</span>\n",
       "</pre>\n"
      ],
      "text/plain": [
       "\u001b[35m──────────────────────────────────────── \u001b[0mExample 46\u001b[35m ─────────────────────────────────────────\u001b[0m\n"
      ]
     },
     "metadata": {},
     "output_type": "display_data"
    },
    {
     "data": {
      "text/html": [
       "<pre style=\"white-space:pre;overflow-x:auto;line-height:normal;font-family:Menlo,'DejaVu Sans Mono',consolas,'Courier New',monospace\">❓ <span style=\"font-weight: bold\">What is the most important type of Norman art preserved in churches?</span>\n",
       "</pre>\n"
      ],
      "text/plain": [
       "❓ \u001b[1mWhat is the most important type of Norman art preserved in churches?\u001b[0m\n"
      ]
     },
     "metadata": {},
     "output_type": "display_data"
    },
    {
     "data": {
      "text/html": [
       "<pre style=\"white-space:pre;overflow-x:auto;line-height:normal;font-family:Menlo,'DejaVu Sans Mono',consolas,'Courier New',monospace\">🤖 In Britain, Norman art primarily survives as <span style=\"background-color: #90ee90\">stonework or metalwork</span>, such as capitals and \n",
       "baptismal fonts. In southern Italy, however, Norman artwork survives plentifully in forms \n",
       "strongly influenced by its Greek, Lombard, and Arab forebears. Of the royal regalia preserved\n",
       "in Palermo, the crown is Byzantine in style and the coronation cloak is of Arab craftsmanship\n",
       "with Arabic inscriptions. Many churches preserve sculptured fonts, capitals, and more \n",
       "importantly mosaics, which were common in Norman Italy and drew heavily on the Greek \n",
       "heritage. Lombard Salerno was a centre of ivorywork in the 11th century and this continued \n",
       "under Norman domination. Finally should be noted the intercourse between French Crusaders \n",
       "traveling to the Holy Land who brought with them French artefacts with which to gift the \n",
       "churches at which they stopped in southern Italy amongst their Norman cousins. For this \n",
       "reason many south Italian churches preserve works from France alongside their native pieces.\n",
       "</pre>\n"
      ],
      "text/plain": [
       "🤖 In Britain, Norman art primarily survives as \u001b[48;2;144;238;144mstonework or metalwork\u001b[0m, such as capitals and \n",
       "baptismal fonts. In southern Italy, however, Norman artwork survives plentifully in forms \n",
       "strongly influenced by its Greek, Lombard, and Arab forebears. Of the royal regalia preserved\n",
       "in Palermo, the crown is Byzantine in style and the coronation cloak is of Arab craftsmanship\n",
       "with Arabic inscriptions. Many churches preserve sculptured fonts, capitals, and more \n",
       "importantly mosaics, which were common in Norman Italy and drew heavily on the Greek \n",
       "heritage. Lombard Salerno was a centre of ivorywork in the 11th century and this continued \n",
       "under Norman domination. Finally should be noted the intercourse between French Crusaders \n",
       "traveling to the Holy Land who brought with them French artefacts with which to gift the \n",
       "churches at which they stopped in southern Italy amongst their Norman cousins. For this \n",
       "reason many south Italian churches preserve works from France alongside their native pieces.\n"
      ]
     },
     "metadata": {},
     "output_type": "display_data"
    },
    {
     "data": {
      "text/html": [
       "<pre style=\"white-space:pre;overflow-x:auto;line-height:normal;font-family:Menlo,'DejaVu Sans Mono',consolas,'Courier New',monospace\">✅ mosaics                       \n",
       "</pre>\n"
      ],
      "text/plain": [
       "✅ mosaics                       \n"
      ]
     },
     "metadata": {},
     "output_type": "display_data"
    },
    {
     "data": {
      "text/html": [
       "<pre style=\"white-space:pre;overflow-x:auto;line-height:normal;font-family:Menlo,'DejaVu Sans Mono',consolas,'Courier New',monospace\"><span style=\"color: #800080; text-decoration-color: #800080\">──────────────────────────────────────── </span>Example 47<span style=\"color: #800080; text-decoration-color: #800080\"> ─────────────────────────────────────────</span>\n",
       "</pre>\n"
      ],
      "text/plain": [
       "\u001b[35m──────────────────────────────────────── \u001b[0mExample 47\u001b[35m ─────────────────────────────────────────\u001b[0m\n"
      ]
     },
     "metadata": {},
     "output_type": "display_data"
    },
    {
     "data": {
      "text/html": [
       "<pre style=\"white-space:pre;overflow-x:auto;line-height:normal;font-family:Menlo,'DejaVu Sans Mono',consolas,'Courier New',monospace\">❓ <span style=\"font-weight: bold\">Where was the location of the colonial government that administered the new colony?</span>\n",
       "</pre>\n"
      ],
      "text/plain": [
       "❓ \u001b[1mWhere was the location of the colonial government that administered the new colony?\u001b[0m\n"
      ]
     },
     "metadata": {},
     "output_type": "display_data"
    },
    {
     "data": {
      "text/html": [
       "<pre style=\"white-space:pre;overflow-x:auto;line-height:normal;font-family:Menlo,'DejaVu Sans Mono',consolas,'Courier New',monospace\">🤖 After the founding of the colony of New South Wales in 1788, Australia was divided into an\n",
       "eastern half named New South Wales and a western half named New Holland, under the \n",
       "administration of the colonial government in <span style=\"background-color: #90ee90\">Sydney</span>. The first European settlement in the \n",
       "area later known as Victoria was established in October 1803 under Lieutenant-Governor David \n",
       "Collins at Sullivan Bay on Port Phillip. It consisted of 402 people (5 Government officials, \n",
       "9 officers of marines, 2 drummers, and 39 privates, 5 soldiers' wives, and a child, 307 \n",
       "convicts, 17 convicts' wives, and 7 children). They had been sent from England in HMS \n",
       "Calcutta under the command of Captain Daniel Woodriff, principally out of fear that the \n",
       "French, who had been exploring the area, might establish their own settlement and thereby \n",
       "challenge British rights to the continent.\n",
       "</pre>\n"
      ],
      "text/plain": [
       "🤖 After the founding of the colony of New South Wales in 1788, Australia was divided into an\n",
       "eastern half named New South Wales and a western half named New Holland, under the \n",
       "administration of the colonial government in \u001b[48;2;144;238;144mSydney\u001b[0m. The first European settlement in the \n",
       "area later known as Victoria was established in October 1803 under Lieutenant-Governor David \n",
       "Collins at Sullivan Bay on Port Phillip. It consisted of 402 people (5 Government officials, \n",
       "9 officers of marines, 2 drummers, and 39 privates, 5 soldiers' wives, and a child, 307 \n",
       "convicts, 17 convicts' wives, and 7 children). They had been sent from England in HMS \n",
       "Calcutta under the command of Captain Daniel Woodriff, principally out of fear that the \n",
       "French, who had been exploring the area, might establish their own settlement and thereby \n",
       "challenge British rights to the continent.\n"
      ]
     },
     "metadata": {},
     "output_type": "display_data"
    },
    {
     "data": {
      "text/html": [
       "<pre style=\"white-space:pre;overflow-x:auto;line-height:normal;font-family:Menlo,'DejaVu Sans Mono',consolas,'Courier New',monospace\">✅ Sydney                        \n",
       "</pre>\n"
      ],
      "text/plain": [
       "✅ Sydney                        \n"
      ]
     },
     "metadata": {},
     "output_type": "display_data"
    },
    {
     "data": {
      "text/html": [
       "<pre style=\"white-space:pre;overflow-x:auto;line-height:normal;font-family:Menlo,'DejaVu Sans Mono',consolas,'Courier New',monospace\"><span style=\"color: #800080; text-decoration-color: #800080\">──────────────────────────────────────── </span>Example 48<span style=\"color: #800080; text-decoration-color: #800080\"> ─────────────────────────────────────────</span>\n",
       "</pre>\n"
      ],
      "text/plain": [
       "\u001b[35m──────────────────────────────────────── \u001b[0mExample 48\u001b[35m ─────────────────────────────────────────\u001b[0m\n"
      ]
     },
     "metadata": {},
     "output_type": "display_data"
    },
    {
     "data": {
      "text/html": [
       "<pre style=\"white-space:pre;overflow-x:auto;line-height:normal;font-family:Menlo,'DejaVu Sans Mono',consolas,'Courier New',monospace\">❓ <span style=\"font-weight: bold\">When did Astor provide the money?</span>\n",
       "</pre>\n"
      ],
      "text/plain": [
       "❓ \u001b[1mWhen did Astor provide the money?\u001b[0m\n"
      ]
     },
     "metadata": {},
     "output_type": "display_data"
    },
    {
     "data": {
      "text/html": [
       "<pre style=\"white-space:pre;overflow-x:auto;line-height:normal;font-family:Menlo,'DejaVu Sans Mono',consolas,'Courier New',monospace\">🤖 In <span style=\"background-color: #90ee90\">1899</span>, John Jacob Astor IV invested $100,000 for Tesla to further develop and produce a \n",
       "new lighting system. Instead, Tesla used the money to fund his Colorado Springs experiments.\n",
       "</pre>\n"
      ],
      "text/plain": [
       "🤖 In \u001b[48;2;144;238;144m1899\u001b[0m, John Jacob Astor IV invested $100,000 for Tesla to further develop and produce a \n",
       "new lighting system. Instead, Tesla used the money to fund his Colorado Springs experiments.\n"
      ]
     },
     "metadata": {},
     "output_type": "display_data"
    },
    {
     "data": {
      "text/html": [
       "<pre style=\"white-space:pre;overflow-x:auto;line-height:normal;font-family:Menlo,'DejaVu Sans Mono',consolas,'Courier New',monospace\">✅ 1899                          \n",
       "</pre>\n"
      ],
      "text/plain": [
       "✅ 1899                          \n"
      ]
     },
     "metadata": {},
     "output_type": "display_data"
    },
    {
     "data": {
      "text/html": [
       "<pre style=\"white-space:pre;overflow-x:auto;line-height:normal;font-family:Menlo,'DejaVu Sans Mono',consolas,'Courier New',monospace\"><span style=\"color: #800080; text-decoration-color: #800080\">──────────────────────────────────────── </span>Example 49<span style=\"color: #800080; text-decoration-color: #800080\"> ─────────────────────────────────────────</span>\n",
       "</pre>\n"
      ],
      "text/plain": [
       "\u001b[35m──────────────────────────────────────── \u001b[0mExample 49\u001b[35m ─────────────────────────────────────────\u001b[0m\n"
      ]
     },
     "metadata": {},
     "output_type": "display_data"
    },
    {
     "data": {
      "text/html": [
       "<pre style=\"white-space:pre;overflow-x:auto;line-height:normal;font-family:Menlo,'DejaVu Sans Mono',consolas,'Courier New',monospace\">❓ <span style=\"font-weight: bold\">What was the horsepower put out by the turbines in Waterside Power Station</span>\n",
       "</pre>\n"
      ],
      "text/plain": [
       "❓ \u001b[1mWhat was the horsepower put out by the turbines in Waterside Power Station\u001b[0m\n"
      ]
     },
     "metadata": {},
     "output_type": "display_data"
    },
    {
     "data": {
      "text/html": [
       "<pre style=\"white-space:pre;overflow-x:auto;line-height:normal;font-family:Menlo,'DejaVu Sans Mono',consolas,'Courier New',monospace\">🤖 On his 50th birthday in 1906, Tesla demonstrated his <span style=\"background-color: #90ee90\">200</span> horsepower (150 kilowatts) 16,000\n",
       "rpm bladeless turbine. During 1910–1911 at the Waterside Power Station in New York, several \n",
       "of his bladeless turbine engines were tested at 100–5,000 hp.\n",
       "</pre>\n"
      ],
      "text/plain": [
       "🤖 On his 50th birthday in 1906, Tesla demonstrated his \u001b[48;2;144;238;144m200\u001b[0m horsepower (150 kilowatts) 16,000\n",
       "rpm bladeless turbine. During 1910–1911 at the Waterside Power Station in New York, several \n",
       "of his bladeless turbine engines were tested at 100–5,000 hp.\n"
      ]
     },
     "metadata": {},
     "output_type": "display_data"
    },
    {
     "data": {
      "text/html": [
       "<pre style=\"white-space:pre;overflow-x:auto;line-height:normal;font-family:Menlo,'DejaVu Sans Mono',consolas,'Courier New',monospace\">✅ 100–5,000 hp                  \n",
       "</pre>\n"
      ],
      "text/plain": [
       "✅ 100–5,000 hp                  \n"
      ]
     },
     "metadata": {},
     "output_type": "display_data"
    }
   ],
   "source": [
    "import importlib\n",
    "importlib.reload(eu)\n",
    "\n",
    "samples = np.random.choice(len(x_eval[0]), 50, replace=False)\n",
    "\n",
    "eu.EvalUtility(\n",
    "    (x_eval[0][samples], x_eval[1][samples], x_eval[2][samples]),\n",
    "    model,\n",
    "    eval_squad_examples[samples]\n",
    ").results()"
   ]
  }
 ],
 "metadata": {
  "kernelspec": {
   "display_name": "deepspeed",
   "language": "python",
   "name": "deepspeed"
  },
  "language_info": {
   "codemirror_mode": {
    "name": "ipython",
    "version": 3
   },
   "file_extension": ".py",
   "mimetype": "text/x-python",
   "name": "python",
   "nbconvert_exporter": "python",
   "pygments_lexer": "ipython3",
   "version": "3.8.5"
  }
 },
 "nbformat": 4,
 "nbformat_minor": 4
}
