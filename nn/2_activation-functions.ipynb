{
 "cells": [
  {
   "cell_type": "markdown",
   "id": "2aaf309d-516c-4dc9-9dd8-cded5cfe9b30",
   "metadata": {},
   "source": [
    "# Activation Functions"
   ]
  },
  {
   "cell_type": "code",
   "execution_count": null,
   "id": "3fe5e418-ceb9-4a8b-9f91-8a78dcdca123",
   "metadata": {},
   "outputs": [],
   "source": [
    "import matplotlib.pyplot as plt\n",
    "%config InlineBackend.figure_format = 'svg'\n",
    "import torch\n",
    "import torch.nn as nn\n",
    "\n",
    "from util import show_act_functions"
   ]
  },
  {
   "cell_type": "code",
   "execution_count": null,
   "id": "befab68d-4a20-4d1c-a070-e948fd6b1681",
   "metadata": {},
   "outputs": [],
   "source": [
    "functions = [nn.ReLU, nn.LeakyReLU, nn.GELU, nn.ELU, nn.Tanh, nn.Sigmoid]"
   ]
  },
  {
   "cell_type": "code",
   "execution_count": null,
   "id": "cfddf43a-71ad-4695-a405-90a6f40e1270",
   "metadata": {},
   "outputs": [],
   "source": [
    "x = torch.arange(-10, 10, 0.1)\n",
    "\n",
    "show_act_functions(x, functions, num_col=3)"
   ]
  },
  {
   "cell_type": "code",
   "execution_count": null,
   "id": "b6cca1ad-c91f-49e4-8aa2-e67b5406079f",
   "metadata": {},
   "outputs": [],
   "source": [
    "lin = nn.Linear(32, 64)"
   ]
  },
  {
   "cell_type": "code",
   "execution_count": null,
   "id": "a37cb731-5c30-4568-92fa-3b7ead66faae",
   "metadata": {},
   "outputs": [],
   "source": [
    "plt.imshow(lin.weight.detach().numpy(), cmap='RdBu', vmin=lin.weight.min())\n",
    "plt.colorbar()\n",
    "# plt.xticks([])\n",
    "# plt.yticks([])\n",
    "ax = plt.gca()\n",
    "plt.show()"
   ]
  },
  {
   "cell_type": "code",
   "execution_count": null,
   "id": "a092b03e-911f-48d2-8b0b-e176f605fbdc",
   "metadata": {},
   "outputs": [],
   "source": [
    "plt.imshow(nn.ReLU()(lin.weight).detach().numpy(), cmap='RdBu', vmin=lin.weight.min())\n",
    "plt.colorbar()\n",
    "plt.show()"
   ]
  }
 ],
 "metadata": {
  "kernelspec": {
   "display_name": "pytorch-2.3.0",
   "language": "python",
   "name": "pytorch-2.3.0"
  },
  "language_info": {
   "codemirror_mode": {
    "name": "ipython",
    "version": 3
   },
   "file_extension": ".py",
   "mimetype": "text/x-python",
   "name": "python",
   "nbconvert_exporter": "python",
   "pygments_lexer": "ipython3",
   "version": "3.9.18"
  }
 },
 "nbformat": 4,
 "nbformat_minor": 5
}
