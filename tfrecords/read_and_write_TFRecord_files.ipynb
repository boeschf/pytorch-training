{
 "cells": [
  {
   "cell_type": "markdown",
   "metadata": {},
   "source": [
    "# Write data to and read data from a TFRecord file\n",
    "\n",
    "This notebook shows how to read and write TFRecord files.\n",
    "\n",
    "This is based on the examples [convert_to_records.py](https://github.com/tensorflow/tensorflow/blob/r1.12/tensorflow/examples/how_tos/reading_data/convert_to_records.py) and [fully_connected_reader.py](https://github.com/tensorflow/tensorflow/blob/r1.12/tensorflow/examples/how_tos/reading_data/fully_connected_reader.py) on the TensorFlow repository, and on [this post](http://warmspringwinds.github.io/tensorflow/tf-slim/2016/12/21/tfrecords-guide/).\n",
    "\n",
    "More info can be found on [TensorFlow's web page](https://www.tensorflow.org)."
   ]
  },
  {
   "cell_type": "code",
   "execution_count": null,
   "metadata": {},
   "outputs": [],
   "source": [
    "import matplotlib.pyplot as plt\n",
    "import skimage.io as io\n",
    "import tensorflow as tf"
   ]
  },
  {
   "cell_type": "code",
   "execution_count": null,
   "metadata": {},
   "outputs": [],
   "source": [
    "tf.version.VERSION"
   ]
  },
  {
   "cell_type": "code",
   "execution_count": null,
   "metadata": {},
   "outputs": [],
   "source": [
    "cat_array = io.imread('imgs/orange-cat.jpg')\n",
    "io.imshow(cat_array)\n",
    "io.imshow(cat_array)\n",
    "plt.title('image size=(%sx%sx%s)' % cat_array.shape)\n",
    "plt.xticks([])\n",
    "plt.yticks([])\n",
    "plt.show()\n",
    "\n",
    "cat_array = io.imread('imgs/gray-cat.jpg')\n",
    "io.imshow(cat_array)\n",
    "io.imshow(cat_array)\n",
    "plt.title('image size=(%sx%sx%s)' % cat_array.shape)\n",
    "plt.xticks([])\n",
    "plt.yticks([])\n",
    "plt.show()"
   ]
  },
  {
   "cell_type": "markdown",
   "metadata": {},
   "source": [
    "### 1. Define the types that will be written into the TFRecord file"
   ]
  },
  {
   "cell_type": "code",
   "execution_count": null,
   "metadata": {},
   "outputs": [],
   "source": [
    "def _bytes_feature(value):\n",
    "    \"\"\"Use this for string and byte types\"\"\"\n",
    "    return tf.train.Feature(bytes_list=tf.train.BytesList(value=[value]))\n",
    "\n",
    "def _int64_feature(value):\n",
    "    \"\"\"Use this for bool, enum, int32, uint32, int64 and uint64 types\"\"\"\n",
    "    return tf.train.Feature(int64_list=tf.train.Int64List(value=[value]))\n",
    "\n",
    "# This one is actually not used on this notebook. Its here just to show\n",
    "# how the float case would be\n",
    "def _float_feature(value):\n",
    "    \"\"\"Use this for float (float32) and double (float64) types\"\"\"\n",
    "    return tf.train.Feature(float_list=tf.train.FloatList(value=[value]))"
   ]
  },
  {
   "cell_type": "code",
   "execution_count": null,
   "metadata": {},
   "outputs": [],
   "source": [
    "# Check how a value looks like as `Feature`\n",
    "print(_float_feature(4.5))\n",
    "print(_float_feature(4.5).SerializeToString())"
   ]
  },
  {
   "cell_type": "markdown",
   "metadata": {},
   "source": [
    "### 2. Write the images and labels to a TFRecord file\n",
    "The steps to write on a TFRecord file are:\n",
    " 1. Create (open) a TFRecord file.\n",
    " 2. Loop over the data. The data will be written on the TFRecord file row by row.\n",
    " 3. Create a feature dictionary (`tf.train.Features`) which the desired keys. The corresponding values will be the data represented as TensorFlow feature types (`_bytes_feature`, `_int64_feature`, ...).\n",
    " 4. Create an example (`tf.train.Example`) from the feature dictionary which will be a record on the TFRecord file.\n",
    " 5. Serialize the examples.\n",
    " 6. Write on the file.\n",
    " 7. Close the file."
   ]
  },
  {
   "cell_type": "code",
   "execution_count": null,
   "metadata": {},
   "outputs": [],
   "source": [
    "filename_label = [('imgs/orange-cat.jpg', 'orange-cat'),\n",
    "                  ('imgs/gray-cat.jpg', 'gray-cat')]\n",
    "\n",
    "tfrecords_filename = 'cats.tfrecords'\n",
    "\n",
    "with tf.io.TFRecordWriter(tfrecords_filename) as writer:\n",
    "    for img_path, label in filename_label:\n",
    "        img = io.imread(img_path)  # read image as numpy array\n",
    "        \n",
    "        # Create an example, which will be a record on the TFRecord file\n",
    "        example = tf.train.Example(features=tf.train.Features(\n",
    "            feature={\n",
    "                'height': _int64_feature(img.shape[0]),\n",
    "                'width': _int64_feature(img.shape[1]),\n",
    "                'image': _bytes_feature(img.tobytes()),\n",
    "                'label': _bytes_feature(label.encode(encoding='utf-8'))\n",
    "            }))\n",
    "\n",
    "        writer.write(example.SerializeToString())"
   ]
  },
  {
   "cell_type": "code",
   "execution_count": null,
   "metadata": {},
   "outputs": [],
   "source": [
    "# Check how an `example` value looks like\n",
    "features = {\n",
    "    'a float feature': _float_feature(4.5),\n",
    "    'a bytes feature': _bytes_feature(b'One cat is orange')\n",
    "}\n",
    "example = tf.train.Example(features=tf.train.Features(feature=features))\n",
    "print(example)\n",
    "print(example.SerializeToString())"
   ]
  },
  {
   "cell_type": "markdown",
   "metadata": {},
   "source": [
    "***\n",
    "\n",
    "### 3. Read from TFRecord file to Dataset object:\n",
    "\n",
    "Steps:\n",
    " 1. Load the TFRecord file to a dataset object with `the function tf.data.TFRecordDataset(tfrecords_filename)`.\n",
    " 2. Create a function to parse the data from the TFRecord file into python or TensorFlow types and apply it through a map to the dataset.\n",
    " 3. Do the normal operations to a dataset to define the input pipeline: maps, filters, batch, repeat, etc.\n",
    " \n",
    "Parser function.\n",
    " 1. Define a parser (`tf.io.parse_single_example`) from the serialized example and the features (keys) that will be loaded specifying their respective types (not all keys saved on the records need to be loaded).\n",
    " 2. Cast each feature to the corresponding TensorFlow types.\n",
    " 3. Return the the decoded data. "
   ]
  },
  {
   "cell_type": "code",
   "execution_count": null,
   "metadata": {},
   "outputs": [],
   "source": [
    "def decode(serialized_example):\n",
    "    \"\"\"Parse an image and label from the given `serialized_example`.\"\"\"\n",
    "\n",
    "    example = tf.io.parse_single_example(\n",
    "        serialized_example,\n",
    "        features={\n",
    "            'height': tf.io.FixedLenFeature([], tf.int64),\n",
    "            'width': tf.io.FixedLenFeature([], tf.int64),\n",
    "            'image': tf.io.FixedLenFeature([], tf.string),\n",
    "            'label': tf.io.FixedLenFeature([], tf.string),\n",
    "        })\n",
    "\n",
    "    width = tf.cast(example['width'], tf.int64)\n",
    "    height = tf.cast(example['height'], tf.int64)\n",
    "    image = tf.io.decode_raw(example['image'], tf.uint8)\n",
    "    label = tf.cast(example['label'], tf.string)\n",
    "    image = tf.reshape(image, (height, width, 3))\n",
    "\n",
    "    return image, label"
   ]
  },
  {
   "cell_type": "code",
   "execution_count": null,
   "metadata": {},
   "outputs": [],
   "source": [
    "# Define the input pipeline\n",
    "dataset = tf.data.TFRecordDataset(tfrecords_filename)\n",
    "dataset = dataset.map(decode)\n",
    "dataset = dataset.batch(1)"
   ]
  },
  {
   "cell_type": "code",
   "execution_count": null,
   "metadata": {},
   "outputs": [],
   "source": [
    "for image, label in dataset:\n",
    "    io.imshow(image.numpy()[0])\n",
    "    tf.print(label[0])\n",
    "    plt.xticks([])\n",
    "    plt.yticks([])\n",
    "    plt.show()"
   ]
  }
 ],
 "metadata": {
  "kernelspec": {
   "display_name": "hpcpython2022",
   "language": "python",
   "name": "hpcpython2022"
  },
  "language_info": {
   "codemirror_mode": {
    "name": "ipython",
    "version": 3
   },
   "file_extension": ".py",
   "mimetype": "text/x-python",
   "name": "python",
   "nbconvert_exporter": "python",
   "pygments_lexer": "ipython3",
   "version": "3.9.4"
  }
 },
 "nbformat": 4,
 "nbformat_minor": 4
}
